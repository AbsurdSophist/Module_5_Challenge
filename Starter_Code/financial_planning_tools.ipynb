{
 "cells": [
  {
   "cell_type": "markdown",
   "metadata": {},
   "source": [
    "# Financial Planning with APIs and Simulations\n",
    "\n",
    "\n",
    "\n"
   ]
  },
  {
   "cell_type": "code",
   "execution_count": 1,
   "metadata": {},
   "outputs": [],
   "source": [
    "# Import required libraries and dependencies\n",
    "import os\n",
    "import requests\n",
    "import json\n",
    "import pandas as pd\n",
    "from dotenv import load_dotenv\n",
    "import alpaca_trade_api as tradeapi\n",
    "from MCForecastTools import MCSimulation\n",
    "import datetime\n",
    "\n",
    "\n",
    "%matplotlib inline"
   ]
  },
  {
   "cell_type": "code",
   "execution_count": 2,
   "metadata": {},
   "outputs": [
    {
     "name": "stderr",
     "output_type": "stream",
     "text": [
      "Python-dotenv could not parse statement starting at line 1\n"
     ]
    },
    {
     "data": {
      "text/plain": [
       "True"
      ]
     },
     "execution_count": 2,
     "metadata": {},
     "output_type": "execute_result"
    }
   ],
   "source": [
    "# Load the environment variables from the .env file\n",
    "load_dotenv()"
   ]
  },
  {
   "cell_type": "markdown",
   "metadata": {},
   "source": [
    "## Part 1: Create a Financial Planner for Emergencies"
   ]
  },
  {
   "cell_type": "code",
   "execution_count": 3,
   "metadata": {},
   "outputs": [],
   "source": [
    "# The current number of coins for each cryptocurrency asset held in the portfolio.\n",
    "btc_coins = 1.2\n",
    "eth_coins = 5.3"
   ]
  },
  {
   "cell_type": "markdown",
   "metadata": {},
   "source": [
    "#### Step 1: Create a variable named `monthly_income`, and set its value to `12000`."
   ]
  },
  {
   "cell_type": "code",
   "execution_count": 4,
   "metadata": {},
   "outputs": [],
   "source": [
    "# The monthly amount for the member's household income\n",
    "monthly_income = 12000"
   ]
  },
  {
   "cell_type": "markdown",
   "metadata": {},
   "source": [
    "#### Review the endpoint URLs for the API calls to Free Crypto API in order to get the current pricing information for both BTC and ETH."
   ]
  },
  {
   "cell_type": "code",
   "execution_count": 5,
   "metadata": {},
   "outputs": [],
   "source": [
    "# The Free Crypto API Call endpoint URLs for the held cryptocurrency assets\n",
    "btc_url = \"https://api.alternative.me/v2/ticker/Bitcoin/?convert=USD\"\n",
    "eth_url = \"https://api.alternative.me/v2/ticker/Ethereum/?convert=USD\""
   ]
  },
  {
   "cell_type": "markdown",
   "metadata": {},
   "source": [
    "#### Step 2. Use the Requests library to get the current price (in US dollars) of Bitcoin (BTC) and Ethereum (ETH) by using the API endpoints that the starter code supplied."
   ]
  },
  {
   "cell_type": "code",
   "execution_count": 6,
   "metadata": {},
   "outputs": [
    {
     "name": "stdout",
     "output_type": "stream",
     "text": [
      "{\n",
      "    \"data\": {\n",
      "        \"1\": {\n",
      "            \"id\": 1,\n",
      "            \"name\": \"Bitcoin\",\n",
      "            \"symbol\": \"BTC\",\n",
      "            \"website_slug\": \"bitcoin\",\n",
      "            \"rank\": 1,\n",
      "            \"circulating_supply\": 18671731,\n",
      "            \"total_supply\": 18671731,\n",
      "            \"max_supply\": 21000000,\n",
      "            \"quotes\": {\n",
      "                \"USD\": {\n",
      "                    \"price\": 59209.0,\n",
      "                    \"volume_24h\": 51883912405,\n",
      "                    \"market_cap\": 1105953343422,\n",
      "                    \"percentage_change_1h\": 0.0721202702271008,\n",
      "                    \"percentage_change_24h\": 1.19673903419775,\n",
      "                    \"percentage_change_7d\": 15.1545096799901,\n",
      "                    \"percent_change_1h\": 0.0721202702271008,\n",
      "                    \"percent_change_24h\": 1.19673903419775,\n",
      "                    \"percent_change_7d\": 15.1545096799901\n",
      "                }\n",
      "            },\n",
      "            \"last_updated\": 1617388193\n",
      "        }\n",
      "    },\n",
      "    \"metadata\": {\n",
      "        \"timestamp\": 1617388193,\n",
      "        \"num_cryptocurrencies\": 1329,\n",
      "        \"error\": null\n",
      "    }\n",
      "}\n"
     ]
    }
   ],
   "source": [
    "# API call to access the current price of BTC\n",
    "btc_response = requests.get(btc_url).json()\n",
    "\n",
    "# Review the response data from the API call\n",
    "print(json.dumps(btc_response, sort_keys = False, indent=4))"
   ]
  },
  {
   "cell_type": "code",
   "execution_count": 7,
   "metadata": {},
   "outputs": [
    {
     "name": "stdout",
     "output_type": "stream",
     "text": [
      "{\n",
      "    \"data\": {\n",
      "        \"1027\": {\n",
      "            \"id\": 1027,\n",
      "            \"name\": \"Ethereum\",\n",
      "            \"symbol\": \"ETH\",\n",
      "            \"website_slug\": \"ethereum\",\n",
      "            \"rank\": 2,\n",
      "            \"circulating_supply\": 115306212,\n",
      "            \"total_supply\": 115306212,\n",
      "            \"max_supply\": 0,\n",
      "            \"quotes\": {\n",
      "                \"USD\": {\n",
      "                    \"price\": 2057.22,\n",
      "                    \"volume_24h\": 35652344368,\n",
      "                    \"market_cap\": 237512522295,\n",
      "                    \"percentage_change_1h\": 0.19317620372581,\n",
      "                    \"percentage_change_24h\": 6.96872950371445,\n",
      "                    \"percentage_change_7d\": 29.6054281464582,\n",
      "                    \"percent_change_1h\": 0.19317620372581,\n",
      "                    \"percent_change_24h\": 6.96872950371445,\n",
      "                    \"percent_change_7d\": 29.6054281464582\n",
      "                }\n",
      "            },\n",
      "            \"last_updated\": 1617388103\n",
      "        }\n",
      "    },\n",
      "    \"metadata\": {\n",
      "        \"timestamp\": 1617388103,\n",
      "        \"num_cryptocurrencies\": 1329,\n",
      "        \"error\": null\n",
      "    }\n",
      "}\n"
     ]
    }
   ],
   "source": [
    "# API call to access the current price ETH\n",
    "eth_response = requests.get(eth_url).json()\n",
    "\n",
    "# Review the response data from the API call\n",
    "print(json.dumps(eth_response, sort_keys = False, indent=4))"
   ]
  },
  {
   "cell_type": "markdown",
   "metadata": {},
   "source": [
    "#### Step 3: Navigate the JSON response object to access the current price of each coin, and store each in a variable."
   ]
  },
  {
   "cell_type": "code",
   "execution_count": 8,
   "metadata": {},
   "outputs": [
    {
     "name": "stdout",
     "output_type": "stream",
     "text": [
      "59209.0\n"
     ]
    }
   ],
   "source": [
    "# Navigate the BTC response object to access the current price of BTC\n",
    "btc_price = btc_response['data']['1']['quotes']['USD']['price']\n",
    "\n",
    "print(btc_price)"
   ]
  },
  {
   "cell_type": "code",
   "execution_count": 9,
   "metadata": {},
   "outputs": [
    {
     "name": "stdout",
     "output_type": "stream",
     "text": [
      "2057.22\n"
     ]
    }
   ],
   "source": [
    "# Navigate the BTC response object to access the current price of ETH\n",
    "eth_price = eth_response['data']['1027']['quotes']['USD']['price']\n",
    "\n",
    "print(eth_price)"
   ]
  },
  {
   "cell_type": "markdown",
   "metadata": {},
   "source": [
    "### Step 4: Calculate the value, in US dollars, of the current amount of each cryptocurrency and of the entire cryptocurrency wallet."
   ]
  },
  {
   "cell_type": "code",
   "execution_count": 10,
   "metadata": {},
   "outputs": [
    {
     "name": "stdout",
     "output_type": "stream",
     "text": [
      "$ 71050.80\n"
     ]
    }
   ],
   "source": [
    "# Compute the current value of the BTC holding \n",
    "btc_value = btc_coins * btc_price\n",
    "\n",
    "print(f\"${btc_value: .2f}\")"
   ]
  },
  {
   "cell_type": "code",
   "execution_count": 11,
   "metadata": {},
   "outputs": [
    {
     "name": "stdout",
     "output_type": "stream",
     "text": [
      "$ 10903.27\n"
     ]
    }
   ],
   "source": [
    "# Compute the current value of the ETH holding \n",
    "eth_value = round(eth_coins * eth_price, 2)\n",
    "\n",
    "print(f\"${eth_value: .2f}\")"
   ]
  },
  {
   "cell_type": "code",
   "execution_count": 12,
   "metadata": {},
   "outputs": [
    {
     "name": "stdout",
     "output_type": "stream",
     "text": [
      "$ 81954.07\n"
     ]
    }
   ],
   "source": [
    "# Total value of the cryptocurrency wallet\n",
    "\n",
    "total_crypto_wallet = btc_value + eth_value\n",
    "\n",
    "print(f\"${total_crypto_wallet: .2f}\")"
   ]
  },
  {
   "cell_type": "markdown",
   "metadata": {},
   "source": [
    "### Evaluate the Stock and Bond Holdings by Using the Alpaca SDK\n",
    "\n",
    "In this section, you’ll determine the current value of a member’s stock and bond holdings. You’ll make an API call to Alpaca via the Alpaca SDK to get the current closing prices of the SPDR S&P 500 ETF Trust (ticker: SPY) and of the iShares Core US Aggregate Bond ETF (ticker: AGG). For the prototype, assume that the member holds 110 shares of SPY, which represents the stock portion of their portfolio, and 200 shares of AGG, which represents the bond portion. To do all this, complete the following steps:\n",
    "\n",
    "1. In the `Starter_Code` folder, create an environment file (`.env`) to store the values of your Alpaca API key and Alpaca secret key.\n",
    "\n",
    "2. Set the variables for the Alpaca API and secret keys. Using the Alpaca SDK, create the Alpaca `tradeapi.REST` object. In this object, include the parameters for the Alpaca API key, the secret key, and the version number.\n",
    "\n",
    "3. Set the following parameters for the Alpaca API call:\n",
    "\n",
    "    - `tickers`: Use the tickers for the member’s stock and bond holdings.\n",
    "\n",
    "    - `timeframe`: Use a time frame of one day.\n",
    "\n",
    "    - `start_date` and `end_date`: Use the same date for these parameters, and format them with the date of the previous weekday (or `2020-08-07`). This is because you want the one closing price for the most-recent trading day.\n",
    "\n",
    "4. Get the current closing prices for `SPY` and `AGG` by using the Alpaca `get_barset` function. Format the response as a Pandas DataFrame by including the `df` property at the end of the `get_barset` function.\n",
    "\n",
    "5. Navigating the Alpaca response DataFrame, select the `SPY` and `AGG` closing prices, and store them as variables.\n",
    "\n",
    "6. Calculate the value, in US dollars, of the current amount of shares in each of the stock and bond portions of the portfolio, and print the results.\n"
   ]
  },
  {
   "cell_type": "markdown",
   "metadata": {},
   "source": [
    "#### Review the total number of shares held in both (SPY) and (AGG)."
   ]
  },
  {
   "cell_type": "code",
   "execution_count": 13,
   "metadata": {},
   "outputs": [],
   "source": [
    "# Current amount of shares held in both the stock (SPY) and bond (AGG) portion of the portfolio.\n",
    "spy_shares = 110\n",
    "agg_shares = 200"
   ]
  },
  {
   "cell_type": "markdown",
   "metadata": {},
   "source": [
    "#### Step 1: In the `Starter_Code` folder, create an environment file (`.env`) to store the values of your Alpaca API key and Alpaca secret key."
   ]
  },
  {
   "cell_type": "markdown",
   "metadata": {},
   "source": [
    "#### Step 2: Set the variables for the Alpaca API and secret keys. Using the Alpaca SDK, create the Alpaca `tradeapi.REST` object. In this object, include the parameters for the Alpaca API key, the secret key, and the version number."
   ]
  },
  {
   "cell_type": "code",
   "execution_count": 14,
   "metadata": {},
   "outputs": [],
   "source": [
    "# Set the variables for the Alpaca API and secret keys\n",
    "alpaca_api_key = os.getenv(\"ALPACA_API_KEY\")\n",
    "alpaca_secret_key = os.getenv(\"ALPACA_SECRET_KEY\")\n",
    "\n",
    "# Create the Alpaca tradeapi.REST object\n",
    "alpaca = tradeapi.REST(\n",
    "    alpaca_api_key,\n",
    "    alpaca_secret_key,\n",
    "    api_version=\"v2\"\n",
    ")\n"
   ]
  },
  {
   "cell_type": "markdown",
   "metadata": {},
   "source": [
    "#### Step 3: Set the following parameters for the Alpaca API call:\n",
    "\n",
    "- `tickers`: Use the tickers for the member’s stock and bond holdings.\n",
    "\n",
    "- `timeframe`: Use a time frame of one day.\n",
    "\n",
    "- `start_date` and `end_date`: Use the same date for these parameters, and format them with the date of the previous weekday (or `2020-08-07`). This is because you want the one closing price for the most-recent trading day.\n"
   ]
  },
  {
   "cell_type": "code",
   "execution_count": 15,
   "metadata": {},
   "outputs": [],
   "source": [
    "# Set the tickers for both the bond and stock portion of the portfolio\n",
    "tickers = [\"SPY\", \"AGG\"]\n",
    "\n",
    "# Set timeframe to 1D \n",
    "timeframe = \"1D\"\n",
    "\n",
    "# Format current date as ISO format\n",
    "start_date = pd.Timestamp('2020-04-01', tz=\"America/New_York\").isoformat()"
   ]
  },
  {
   "cell_type": "markdown",
   "metadata": {},
   "source": [
    "#### Step 4: Get the current closing prices for `SPY` and `AGG` by using the Alpaca `get_barset` function. Format the response as a Pandas DataFrame by including the `df` property at the end of the `get_barset` function."
   ]
  },
  {
   "cell_type": "code",
   "execution_count": 16,
   "metadata": {},
   "outputs": [
    {
     "data": {
      "text/html": [
       "<div>\n",
       "<style scoped>\n",
       "    .dataframe tbody tr th:only-of-type {\n",
       "        vertical-align: middle;\n",
       "    }\n",
       "\n",
       "    .dataframe tbody tr th {\n",
       "        vertical-align: top;\n",
       "    }\n",
       "\n",
       "    .dataframe thead tr th {\n",
       "        text-align: left;\n",
       "    }\n",
       "\n",
       "    .dataframe thead tr:last-of-type th {\n",
       "        text-align: right;\n",
       "    }\n",
       "</style>\n",
       "<table border=\"1\" class=\"dataframe\">\n",
       "  <thead>\n",
       "    <tr>\n",
       "      <th></th>\n",
       "      <th colspan=\"5\" halign=\"left\">AGG</th>\n",
       "      <th colspan=\"5\" halign=\"left\">SPY</th>\n",
       "    </tr>\n",
       "    <tr>\n",
       "      <th></th>\n",
       "      <th>open</th>\n",
       "      <th>high</th>\n",
       "      <th>low</th>\n",
       "      <th>close</th>\n",
       "      <th>volume</th>\n",
       "      <th>open</th>\n",
       "      <th>high</th>\n",
       "      <th>low</th>\n",
       "      <th>close</th>\n",
       "      <th>volume</th>\n",
       "    </tr>\n",
       "    <tr>\n",
       "      <th>time</th>\n",
       "      <th></th>\n",
       "      <th></th>\n",
       "      <th></th>\n",
       "      <th></th>\n",
       "      <th></th>\n",
       "      <th></th>\n",
       "      <th></th>\n",
       "      <th></th>\n",
       "      <th></th>\n",
       "      <th></th>\n",
       "    </tr>\n",
       "  </thead>\n",
       "  <tbody>\n",
       "    <tr>\n",
       "      <th>2020-04-01 00:00:00-04:00</th>\n",
       "      <td>115.38</td>\n",
       "      <td>115.4</td>\n",
       "      <td>114.65</td>\n",
       "      <td>114.86</td>\n",
       "      <td>22701910</td>\n",
       "      <td>247.98</td>\n",
       "      <td>257.6591</td>\n",
       "      <td>243.9</td>\n",
       "      <td>246.12</td>\n",
       "      <td>164045526</td>\n",
       "    </tr>\n",
       "  </tbody>\n",
       "</table>\n",
       "</div>"
      ],
      "text/plain": [
       "                              AGG                                      SPY  \\\n",
       "                             open   high     low   close    volume    open   \n",
       "time                                                                         \n",
       "2020-04-01 00:00:00-04:00  115.38  115.4  114.65  114.86  22701910  247.98   \n",
       "\n",
       "                                                               \n",
       "                               high    low   close     volume  \n",
       "time                                                           \n",
       "2020-04-01 00:00:00-04:00  257.6591  243.9  246.12  164045526  "
      ]
     },
     "execution_count": 16,
     "metadata": {},
     "output_type": "execute_result"
    }
   ],
   "source": [
    "# Alpaca get_barset function to get current closing prices the portfolio\n",
    "df_portfolio = alpaca.get_barset(\n",
    "    tickers,\n",
    "    timeframe,\n",
    "    start = start_date,\n",
    "    end = start_date\n",
    ").df\n",
    "\n",
    "df_portfolio"
   ]
  },
  {
   "cell_type": "markdown",
   "metadata": {},
   "source": [
    "#### Step 5: Navigating the Alpaca response DataFrame, select the `SPY` and `AGG` closing prices, and store them as variables."
   ]
  },
  {
   "cell_type": "code",
   "execution_count": 17,
   "metadata": {},
   "outputs": [
    {
     "data": {
      "text/plain": [
       "114.86"
      ]
     },
     "execution_count": 17,
     "metadata": {},
     "output_type": "execute_result"
    }
   ],
   "source": [
    "# Access the closing price for AGG from the Alpaca DataFrame\n",
    "agg_close_price = float(df_portfolio['AGG']['close'])\n",
    "\n",
    "agg_close_price"
   ]
  },
  {
   "cell_type": "code",
   "execution_count": 18,
   "metadata": {},
   "outputs": [
    {
     "data": {
      "text/plain": [
       "246.12"
      ]
     },
     "execution_count": 18,
     "metadata": {},
     "output_type": "execute_result"
    }
   ],
   "source": [
    "# Access the closing price for SPY from the Alpaca DataFrame\n",
    "spy_close_price = float(df_portfolio['SPY']['close'])\n",
    "\n",
    "spy_close_price"
   ]
  },
  {
   "cell_type": "markdown",
   "metadata": {},
   "source": [
    "#### Step 6: Calculate the value, in US dollars, of the current amount of shares in each of the stock and bond portions of the portfolio, and print the results."
   ]
  },
  {
   "cell_type": "code",
   "execution_count": 19,
   "metadata": {},
   "outputs": [
    {
     "name": "stdout",
     "output_type": "stream",
     "text": [
      "The current value of the bond portfolio is $ 22972.00\n"
     ]
    }
   ],
   "source": [
    "# Calculate the current value of the bond portion of the portfolio\n",
    "agg_value = agg_close_price * agg_shares\n",
    "\n",
    "# Print the current value of the bond portfolio\n",
    "print(f\"The current value of the bond portfolio is ${agg_value: .2f}\")"
   ]
  },
  {
   "cell_type": "code",
   "execution_count": 20,
   "metadata": {},
   "outputs": [
    {
     "name": "stdout",
     "output_type": "stream",
     "text": [
      "The current value of the stock portfolio is $ 27073.20\n"
     ]
    }
   ],
   "source": [
    "# Calculate the current value of the stock portion of the portfolio\n",
    "spy_value = spy_close_price * spy_shares\n",
    "\n",
    "# Print the current value of the stock portfolio\n",
    "print(f\"The current value of the stock portfolio is ${spy_value: .2f}\")"
   ]
  },
  {
   "cell_type": "code",
   "execution_count": 21,
   "metadata": {},
   "outputs": [
    {
     "name": "stdout",
     "output_type": "stream",
     "text": [
      "The current value of the bond and stock portfolio is $ 50045.20\n"
     ]
    }
   ],
   "source": [
    "# Calculate the total value of the stock and bond portion of the portfolio\n",
    "total_stocks_bonds = agg_value + spy_value\n",
    "\n",
    "# Print the current balance of the stock and bond portion of the portfolio\n",
    "print(f\"The current value of the bond and stock portfolio is ${total_stocks_bonds: .2f}\")"
   ]
  },
  {
   "cell_type": "code",
   "execution_count": 22,
   "metadata": {},
   "outputs": [
    {
     "name": "stdout",
     "output_type": "stream",
     "text": [
      "The current value of the total portfolio is $ 131999.27\n"
     ]
    }
   ],
   "source": [
    "# Calculate the total value of the member's entire savings portfolio\n",
    "total_portfolio = total_stocks_bonds + total_crypto_wallet\n",
    "\n",
    "# Print current total portolfio balance\n",
    "print(f\"The current value of the total portfolio is ${total_portfolio: .2f}\")"
   ]
  },
  {
   "cell_type": "markdown",
   "metadata": {},
   "source": [
    "### Evaluate the Emergency Fund\n",
    "\n",
    "In this section, you’ll use the valuations for the cryptocurrency wallet and for the stock and bond portions of the portfolio to determine if the credit union member has enough savings to build an emergency fund into their financial plan. To do this, complete the following steps:\n",
    "\n",
    "1. Create a Python list named `savings_data` that has two elements. The first element contains the total value of the cryptocurrency wallet. The second element contains the total value of the stock and bond portions of the portfolio.\n",
    "\n",
    "2. Use the `savings_data` list to create a Pandas DataFrame named `savings_df`, and then display this DataFrame. The function to create the DataFrame should take the following three parameters:\n",
    "\n",
    "    - `savings_data`: Use the list that you just created.\n",
    "\n",
    "    - `columns`: Set this parameter equal to a Python list with a single value called `amount`.\n",
    "\n",
    "    - `index`: Set this parameter equal to a Python list with the values of `crypto` and `stock/bond`.\n",
    "\n",
    "3. Use the `savings_df` DataFrame to plot a pie chart that visualizes the composition of the member’s portfolio. The y-axis of the pie chart uses `amount`. Be sure to add a title.\n",
    "\n",
    "4. Using Python, determine if the current portfolio has enough to create an emergency fund as part of the member’s financial plan. Ideally, an emergency fund should equal to three times the member’s monthly income. To do this, implement the following steps:\n",
    "\n",
    "    1. Create a variable named `emergency_fund_value`, and set it equal to three times the value of the member’s `monthly_income` of $12000. (You set this earlier in Part 1).\n",
    "\n",
    "    2. Create a series of three if statements to determine if the member’s total portfolio is large enough to fund the emergency portfolio:\n",
    "\n",
    "        1. If the total portfolio value is greater than the emergency fund value, display a message congratulating the member for having enough money in this fund.\n",
    "\n",
    "        2. Else if the total portfolio value is equal to the emergency fund value, display a message congratulating the member on reaching this important financial goal.\n",
    "\n",
    "        3. Else the total portfolio is less than the emergency fund value, so display a message showing how many dollars away the member is from reaching the goal. (Subtract the total portfolio value from the emergency fund value.)\n"
   ]
  },
  {
   "cell_type": "markdown",
   "metadata": {},
   "source": [
    "#### Step 1: Create a Python list named `savings_data` that has two elements. The first element contains the total value of the cryptocurrency wallet. The second element contains the total value of the stock and bond portions of the portfolio."
   ]
  },
  {
   "cell_type": "code",
   "execution_count": 23,
   "metadata": {},
   "outputs": [
    {
     "data": {
      "text/plain": [
       "[81954.07, 50045.2]"
      ]
     },
     "execution_count": 23,
     "metadata": {},
     "output_type": "execute_result"
    }
   ],
   "source": [
    "# Consolidate financial assets data into a Python list\n",
    "savings_data = [total_crypto_wallet, total_stocks_bonds]\n",
    "\n",
    "# Review \n",
    "savings_data"
   ]
  },
  {
   "cell_type": "markdown",
   "metadata": {},
   "source": [
    "#### Step 2: Use the `savings_data` list to create a Pandas DataFrame named `savings_df`, and then display this DataFrame. The function to create the DataFrame should take the following three parameters:\n",
    "\n",
    "- `savings_data`: Use the list that you just created.\n",
    "\n",
    "- `columns`: Set this parameter equal to a Python list with a single value called `amount`.\n",
    "\n",
    "- `index`: Set this parameter equal to a Python list with the values of `crypto` and `stock/bond`.\n"
   ]
  },
  {
   "cell_type": "code",
   "execution_count": 24,
   "metadata": {},
   "outputs": [
    {
     "data": {
      "text/html": [
       "<div>\n",
       "<style scoped>\n",
       "    .dataframe tbody tr th:only-of-type {\n",
       "        vertical-align: middle;\n",
       "    }\n",
       "\n",
       "    .dataframe tbody tr th {\n",
       "        vertical-align: top;\n",
       "    }\n",
       "\n",
       "    .dataframe thead th {\n",
       "        text-align: right;\n",
       "    }\n",
       "</style>\n",
       "<table border=\"1\" class=\"dataframe\">\n",
       "  <thead>\n",
       "    <tr style=\"text-align: right;\">\n",
       "      <th></th>\n",
       "      <th>amount</th>\n",
       "    </tr>\n",
       "  </thead>\n",
       "  <tbody>\n",
       "    <tr>\n",
       "      <th>crypto</th>\n",
       "      <td>81954.07</td>\n",
       "    </tr>\n",
       "    <tr>\n",
       "      <th>stock/bond</th>\n",
       "      <td>50045.20</td>\n",
       "    </tr>\n",
       "  </tbody>\n",
       "</table>\n",
       "</div>"
      ],
      "text/plain": [
       "              amount\n",
       "crypto      81954.07\n",
       "stock/bond  50045.20"
      ]
     },
     "execution_count": 24,
     "metadata": {},
     "output_type": "execute_result"
    }
   ],
   "source": [
    "# Create a Pandas DataFrame called savings_df \n",
    "savings_df = pd.DataFrame(\n",
    "    savings_data,\n",
    "    columns = ['amount'],\n",
    "    index = ['crypto', 'stock/bond']\n",
    ")\n",
    "\n",
    "savings_df"
   ]
  },
  {
   "cell_type": "markdown",
   "metadata": {},
   "source": [
    "#### Step 3: Use the `savings_df` DataFrame to plot a pie chart that visualizes the composition of the member’s portfolio. The y-axis of the pie chart uses `amount`. Be sure to add a title."
   ]
  },
  {
   "cell_type": "code",
   "execution_count": 25,
   "metadata": {},
   "outputs": [
    {
     "data": {
      "text/plain": [
       "<AxesSubplot:title={'center':'Composition of Current Total Portfolio'}, ylabel='amount'>"
      ]
     },
     "execution_count": 25,
     "metadata": {},
     "output_type": "execute_result"
    },
    {
     "data": {
      "image/png": "[encoded data removed]",
      "text/plain": [
       "<Figure size 504x504 with 1 Axes>"
      ]
     },
     "metadata": {},
     "output_type": "display_data"
    }
   ],
   "source": [
    "# Plot of the total value of the member's portfolio in a pie chart\n",
    "savings_df.plot.pie(y = 'amount', title = 'Composition of Current Total Portfolio', figsize = (7, 7))\n"
   ]
  },
  {
   "cell_type": "markdown",
   "metadata": {},
   "source": [
    "#### Step 4: Using Python, determine if the current portfolio has enough to create an emergency fund as part of the member’s financial plan. Ideally, an emergency fund should equal to three times the member’s monthly income. To do this, implement the following steps:\n",
    "\n",
    "Step 1. Create a variable named `emergency_fund_value`, and set it equal to three times the value of the member’s `monthly_income` of 12000. (You set this earlier in Part 1).\n",
    "\n",
    "Step 2. Create a series of three if statements to determine if the member’s total portfolio is large enough to fund the emergency portfolio:\n",
    "\n",
    "* If the total portfolio value is greater than the emergency fund value, display a message congratulating the member for having enough money in this fund.\n",
    "\n",
    "* Else if the total portfolio value is equal to the emergency fund value, display a message congratulating the member on reaching this important financial goal.\n",
    "\n",
    "* Else the total portfolio is less than the emergency fund value, so display a message showing how many dollars away the member is from reaching the goal. (Subtract the total portfolio value from the emergency fund value.)\n"
   ]
  },
  {
   "cell_type": "markdown",
   "metadata": {},
   "source": [
    "##### Step 4-1: Create a variable named `emergency_fund_value`, and set it equal to three times the value of the member’s `monthly_income` of 12000. (You set this earlier in Part 1)."
   ]
  },
  {
   "cell_type": "code",
   "execution_count": 26,
   "metadata": {},
   "outputs": [],
   "source": [
    "# Create a variable named emergency_fund_value\n",
    "emergency_fund_value = monthly_income * 3"
   ]
  },
  {
   "cell_type": "markdown",
   "metadata": {},
   "source": [
    "##### Step 4-2: Create a series of three if statements to determine if the member’s total portfolio is large enough to fund the emergency portfolio:\n",
    "\n",
    "* If the total portfolio value is greater than the emergency fund value, display a message congratulating the member for having enough money in this fund.\n",
    "\n",
    "* Else if the total portfolio value is equal to the emergency fund value, display a message congratulating the member on reaching this important financial goal.\n",
    "\n",
    "* Else the total portfolio is less than the emergency fund value, so display a message showing how many dollars away the member is from reaching the goal. (Subtract the total portfolio value from the emergency fund value.)"
   ]
  },
  {
   "cell_type": "code",
   "execution_count": 27,
   "metadata": {},
   "outputs": [
    {
     "name": "stdout",
     "output_type": "stream",
     "text": [
      "Congratulations! You have enough money to create your emergency fund.\n"
     ]
    }
   ],
   "source": [
    "# Evaluate the possibility of creating an emergency fund with 3 conditions:\n",
    "if total_portfolio > emergency_fund_value:\n",
    "    print(\"Congratulations! You have enough money to create your emergency fund.\")\n",
    "elif total_portfolio == emergency_fund_value:\n",
    "    print(\"Congratulations! Your total portfolio value is equal to your emergency fund value goal.\")\n",
    "elif total_portfolio < emergency_fund_value:\n",
    "    print(f\"We are sorry, you are still ${emergency_fund_value - total_portfolio: .2f} away from reaching your goal.\")\n"
   ]
  },
  {
   "cell_type": "markdown",
   "metadata": {},
   "source": [
    "## Part 2: Create a Financial Planner for Retirement"
   ]
  },
  {
   "cell_type": "markdown",
   "metadata": {},
   "source": [
    "### Create the Monte Carlo Simulation\n",
    "\n",
    "In this section, you’ll use the MCForecastTools library to create a Monte Carlo simulation for the member’s savings portfolio. To do this, complete the following steps:\n",
    "\n",
    "1. Make an API call via the Alpaca SDK to get 10 years of historical closing prices for a traditional 60/40 portfolio split: 60% stocks (SPY) and 40% bonds (AGG).\n",
    "\n",
    "2. Run a Monte Carlo simulation of 500 samples and 30 years for the 60/40 portfolio, and then plot the results.The following image shows the overlay line plot resulting from a simulation with these characteristics. However, because a random number generator is used to run each live Monte Carlo simulation, your image will differ slightly from this exact image:\n",
    "\n",
    "![A screenshot depicts the resulting plot.](Images/5-4-monte-carlo-line-plot.png)\n",
    "\n",
    "3. Plot the probability distribution of the Monte Carlo simulation. Plot the probability distribution of the Monte Carlo simulation. The following image shows the histogram plot resulting from a simulation with these characteristics. However, because a random number generator is used to run each live Monte Carlo simulation, your image will differ slightly from this exact image:\n",
    "\n",
    "![A screenshot depicts the histogram plot.](Images/5-4-monte-carlo-histogram.png)\n",
    "\n",
    "4. Generate the summary statistics for the Monte Carlo simulation.\n",
    "\n"
   ]
  },
  {
   "cell_type": "markdown",
   "metadata": {},
   "source": [
    "#### Step 1: Make an API call via the Alpaca SDK to get 10 years of historical closing prices for a traditional 60/40 portfolio split: 60% stocks (SPY) and 40% bonds (AGG)."
   ]
  },
  {
   "cell_type": "code",
   "execution_count": 28,
   "metadata": {},
   "outputs": [
    {
     "data": {
      "text/plain": [
       "('2011-04-05T00:00:00-04:00', '2021-04-02T00:00:00-04:00')"
      ]
     },
     "execution_count": 28,
     "metadata": {},
     "output_type": "execute_result"
    }
   ],
   "source": [
    "# Set start and end dates of 10 years back from your current date\n",
    "today_date = str(datetime.datetime.now()).split()[0]\n",
    "ten_years_ago = str(datetime.datetime.now() - datetime.timedelta(days=10*365)).split()[0]\n",
    "\n",
    "start_date = pd.Timestamp(ten_years_ago, tz=\"America/New_York\").isoformat()\n",
    "end_date = pd.Timestamp(today_date, tz=\"America/New_York\").isoformat()\n",
    "\n",
    "# Display dates for verification\n",
    "start_date, end_date"
   ]
  },
  {
   "cell_type": "code",
   "execution_count": 29,
   "metadata": {},
   "outputs": [
    {
     "data": {
      "text/html": [
       "<div>\n",
       "<style scoped>\n",
       "    .dataframe tbody tr th:only-of-type {\n",
       "        vertical-align: middle;\n",
       "    }\n",
       "\n",
       "    .dataframe tbody tr th {\n",
       "        vertical-align: top;\n",
       "    }\n",
       "\n",
       "    .dataframe thead tr th {\n",
       "        text-align: left;\n",
       "    }\n",
       "\n",
       "    .dataframe thead tr:last-of-type th {\n",
       "        text-align: right;\n",
       "    }\n",
       "</style>\n",
       "<table border=\"1\" class=\"dataframe\">\n",
       "  <thead>\n",
       "    <tr>\n",
       "      <th></th>\n",
       "      <th colspan=\"5\" halign=\"left\">AGG</th>\n",
       "      <th colspan=\"5\" halign=\"left\">SPY</th>\n",
       "    </tr>\n",
       "    <tr>\n",
       "      <th></th>\n",
       "      <th>open</th>\n",
       "      <th>high</th>\n",
       "      <th>low</th>\n",
       "      <th>close</th>\n",
       "      <th>volume</th>\n",
       "      <th>open</th>\n",
       "      <th>high</th>\n",
       "      <th>low</th>\n",
       "      <th>close</th>\n",
       "      <th>volume</th>\n",
       "    </tr>\n",
       "    <tr>\n",
       "      <th>time</th>\n",
       "      <th></th>\n",
       "      <th></th>\n",
       "      <th></th>\n",
       "      <th></th>\n",
       "      <th></th>\n",
       "      <th></th>\n",
       "      <th></th>\n",
       "      <th></th>\n",
       "      <th></th>\n",
       "      <th></th>\n",
       "    </tr>\n",
       "  </thead>\n",
       "  <tbody>\n",
       "    <tr>\n",
       "      <th>2020-11-06 00:00:00-05:00</th>\n",
       "      <td>117.81</td>\n",
       "      <td>117.86</td>\n",
       "      <td>117.6699</td>\n",
       "      <td>117.80</td>\n",
       "      <td>5106146</td>\n",
       "      <td>349.93</td>\n",
       "      <td>351.5100</td>\n",
       "      <td>347.65</td>\n",
       "      <td>350.19</td>\n",
       "      <td>58137413</td>\n",
       "    </tr>\n",
       "    <tr>\n",
       "      <th>2020-11-09 00:00:00-05:00</th>\n",
       "      <td>117.40</td>\n",
       "      <td>117.47</td>\n",
       "      <td>117.0600</td>\n",
       "      <td>117.24</td>\n",
       "      <td>6073474</td>\n",
       "      <td>363.97</td>\n",
       "      <td>364.3800</td>\n",
       "      <td>354.06</td>\n",
       "      <td>354.54</td>\n",
       "      <td>140613847</td>\n",
       "    </tr>\n",
       "    <tr>\n",
       "      <th>2020-11-10 00:00:00-05:00</th>\n",
       "      <td>117.05</td>\n",
       "      <td>117.23</td>\n",
       "      <td>117.0300</td>\n",
       "      <td>117.05</td>\n",
       "      <td>4663301</td>\n",
       "      <td>353.49</td>\n",
       "      <td>355.1800</td>\n",
       "      <td>350.51</td>\n",
       "      <td>354.07</td>\n",
       "      <td>69143380</td>\n",
       "    </tr>\n",
       "    <tr>\n",
       "      <th>2020-11-11 00:00:00-05:00</th>\n",
       "      <td>117.06</td>\n",
       "      <td>117.18</td>\n",
       "      <td>117.0200</td>\n",
       "      <td>117.15</td>\n",
       "      <td>3001773</td>\n",
       "      <td>356.40</td>\n",
       "      <td>357.5600</td>\n",
       "      <td>355.06</td>\n",
       "      <td>356.62</td>\n",
       "      <td>45627772</td>\n",
       "    </tr>\n",
       "    <tr>\n",
       "      <th>2020-11-12 00:00:00-05:00</th>\n",
       "      <td>117.37</td>\n",
       "      <td>117.63</td>\n",
       "      <td>117.3300</td>\n",
       "      <td>117.62</td>\n",
       "      <td>7438935</td>\n",
       "      <td>355.58</td>\n",
       "      <td>356.7182</td>\n",
       "      <td>351.26</td>\n",
       "      <td>353.28</td>\n",
       "      <td>57393573</td>\n",
       "    </tr>\n",
       "  </tbody>\n",
       "</table>\n",
       "</div>"
      ],
      "text/plain": [
       "                              AGG                                        SPY  \\\n",
       "                             open    high       low   close   volume    open   \n",
       "time                                                                           \n",
       "2020-11-06 00:00:00-05:00  117.81  117.86  117.6699  117.80  5106146  349.93   \n",
       "2020-11-09 00:00:00-05:00  117.40  117.47  117.0600  117.24  6073474  363.97   \n",
       "2020-11-10 00:00:00-05:00  117.05  117.23  117.0300  117.05  4663301  353.49   \n",
       "2020-11-11 00:00:00-05:00  117.06  117.18  117.0200  117.15  3001773  356.40   \n",
       "2020-11-12 00:00:00-05:00  117.37  117.63  117.3300  117.62  7438935  355.58   \n",
       "\n",
       "                                                                \n",
       "                               high     low   close     volume  \n",
       "time                                                            \n",
       "2020-11-06 00:00:00-05:00  351.5100  347.65  350.19   58137413  \n",
       "2020-11-09 00:00:00-05:00  364.3800  354.06  354.54  140613847  \n",
       "2020-11-10 00:00:00-05:00  355.1800  350.51  354.07   69143380  \n",
       "2020-11-11 00:00:00-05:00  357.5600  355.06  356.62   45627772  \n",
       "2020-11-12 00:00:00-05:00  356.7182  351.26  353.28   57393573  "
      ]
     },
     "metadata": {},
     "output_type": "display_data"
    },
    {
     "data": {
      "text/html": [
       "<div>\n",
       "<style scoped>\n",
       "    .dataframe tbody tr th:only-of-type {\n",
       "        vertical-align: middle;\n",
       "    }\n",
       "\n",
       "    .dataframe tbody tr th {\n",
       "        vertical-align: top;\n",
       "    }\n",
       "\n",
       "    .dataframe thead tr th {\n",
       "        text-align: left;\n",
       "    }\n",
       "\n",
       "    .dataframe thead tr:last-of-type th {\n",
       "        text-align: right;\n",
       "    }\n",
       "</style>\n",
       "<table border=\"1\" class=\"dataframe\">\n",
       "  <thead>\n",
       "    <tr>\n",
       "      <th></th>\n",
       "      <th colspan=\"5\" halign=\"left\">AGG</th>\n",
       "      <th colspan=\"5\" halign=\"left\">SPY</th>\n",
       "    </tr>\n",
       "    <tr>\n",
       "      <th></th>\n",
       "      <th>open</th>\n",
       "      <th>high</th>\n",
       "      <th>low</th>\n",
       "      <th>close</th>\n",
       "      <th>volume</th>\n",
       "      <th>open</th>\n",
       "      <th>high</th>\n",
       "      <th>low</th>\n",
       "      <th>close</th>\n",
       "      <th>volume</th>\n",
       "    </tr>\n",
       "    <tr>\n",
       "      <th>time</th>\n",
       "      <th></th>\n",
       "      <th></th>\n",
       "      <th></th>\n",
       "      <th></th>\n",
       "      <th></th>\n",
       "      <th></th>\n",
       "      <th></th>\n",
       "      <th></th>\n",
       "      <th></th>\n",
       "      <th></th>\n",
       "    </tr>\n",
       "  </thead>\n",
       "  <tbody>\n",
       "    <tr>\n",
       "      <th>2021-03-26 00:00:00-04:00</th>\n",
       "      <td>113.91</td>\n",
       "      <td>114.075</td>\n",
       "      <td>113.860</td>\n",
       "      <td>113.93</td>\n",
       "      <td>3385851</td>\n",
       "      <td>390.93</td>\n",
       "      <td>396.41</td>\n",
       "      <td>390.29</td>\n",
       "      <td>395.970</td>\n",
       "      <td>91121640</td>\n",
       "    </tr>\n",
       "    <tr>\n",
       "      <th>2021-03-29 00:00:00-04:00</th>\n",
       "      <td>113.52</td>\n",
       "      <td>114.000</td>\n",
       "      <td>113.520</td>\n",
       "      <td>113.72</td>\n",
       "      <td>5524113</td>\n",
       "      <td>394.40</td>\n",
       "      <td>396.75</td>\n",
       "      <td>392.81</td>\n",
       "      <td>395.485</td>\n",
       "      <td>86133590</td>\n",
       "    </tr>\n",
       "    <tr>\n",
       "      <th>2021-03-30 00:00:00-04:00</th>\n",
       "      <td>113.64</td>\n",
       "      <td>113.850</td>\n",
       "      <td>113.525</td>\n",
       "      <td>113.82</td>\n",
       "      <td>4742520</td>\n",
       "      <td>394.42</td>\n",
       "      <td>395.45</td>\n",
       "      <td>393.02</td>\n",
       "      <td>394.780</td>\n",
       "      <td>63446300</td>\n",
       "    </tr>\n",
       "    <tr>\n",
       "      <th>2021-03-31 00:00:00-04:00</th>\n",
       "      <td>113.84</td>\n",
       "      <td>113.980</td>\n",
       "      <td>113.710</td>\n",
       "      <td>113.82</td>\n",
       "      <td>5851348</td>\n",
       "      <td>395.34</td>\n",
       "      <td>398.00</td>\n",
       "      <td>395.31</td>\n",
       "      <td>396.260</td>\n",
       "      <td>88555440</td>\n",
       "    </tr>\n",
       "    <tr>\n",
       "      <th>2021-04-01 00:00:00-04:00</th>\n",
       "      <td>113.93</td>\n",
       "      <td>114.050</td>\n",
       "      <td>113.830</td>\n",
       "      <td>114.02</td>\n",
       "      <td>9491631</td>\n",
       "      <td>398.40</td>\n",
       "      <td>400.67</td>\n",
       "      <td>398.18</td>\n",
       "      <td>400.530</td>\n",
       "      <td>72714084</td>\n",
       "    </tr>\n",
       "  </tbody>\n",
       "</table>\n",
       "</div>"
      ],
      "text/plain": [
       "                              AGG                                        SPY  \\\n",
       "                             open     high      low   close   volume    open   \n",
       "time                                                                           \n",
       "2021-03-26 00:00:00-04:00  113.91  114.075  113.860  113.93  3385851  390.93   \n",
       "2021-03-29 00:00:00-04:00  113.52  114.000  113.520  113.72  5524113  394.40   \n",
       "2021-03-30 00:00:00-04:00  113.64  113.850  113.525  113.82  4742520  394.42   \n",
       "2021-03-31 00:00:00-04:00  113.84  113.980  113.710  113.82  5851348  395.34   \n",
       "2021-04-01 00:00:00-04:00  113.93  114.050  113.830  114.02  9491631  398.40   \n",
       "\n",
       "                                                              \n",
       "                             high     low    close    volume  \n",
       "time                                                          \n",
       "2021-03-26 00:00:00-04:00  396.41  390.29  395.970  91121640  \n",
       "2021-03-29 00:00:00-04:00  396.75  392.81  395.485  86133590  \n",
       "2021-03-30 00:00:00-04:00  395.45  393.02  394.780  63446300  \n",
       "2021-03-31 00:00:00-04:00  398.00  395.31  396.260  88555440  \n",
       "2021-04-01 00:00:00-04:00  400.67  398.18  400.530  72714084  "
      ]
     },
     "metadata": {},
     "output_type": "display_data"
    }
   ],
   "source": [
    "# Use the Alpaca get_barset function to make the API call to get the 10 years worth of pricing data and convert into DataFrame\n",
    "df_portfolio_ten_year = alpaca.get_barset(\n",
    "    tickers,\n",
    "    timeframe, \n",
    "    start = start_date,\n",
    "    end = end_date\n",
    ").df\n",
    "\n",
    "\n",
    "# Display both the first and last five rows of the DataFrame\n",
    "display(df_portfolio_ten_year.head())\n",
    "display(df_portfolio_ten_year.tail())"
   ]
  },
  {
   "cell_type": "markdown",
   "metadata": {},
   "source": [
    "#### Step 2: Run a Monte Carlo simulation of 500 samples and 30 years for the 60/40 portfolio, and then plot the results."
   ]
  },
  {
   "cell_type": "code",
   "execution_count": 30,
   "metadata": {},
   "outputs": [
    {
     "data": {
      "text/html": [
       "<div>\n",
       "<style scoped>\n",
       "    .dataframe tbody tr th:only-of-type {\n",
       "        vertical-align: middle;\n",
       "    }\n",
       "\n",
       "    .dataframe tbody tr th {\n",
       "        vertical-align: top;\n",
       "    }\n",
       "\n",
       "    .dataframe thead tr th {\n",
       "        text-align: left;\n",
       "    }\n",
       "\n",
       "    .dataframe thead tr:last-of-type th {\n",
       "        text-align: right;\n",
       "    }\n",
       "</style>\n",
       "<table border=\"1\" class=\"dataframe\">\n",
       "  <thead>\n",
       "    <tr>\n",
       "      <th></th>\n",
       "      <th colspan=\"6\" halign=\"left\">AGG</th>\n",
       "      <th colspan=\"6\" halign=\"left\">SPY</th>\n",
       "    </tr>\n",
       "    <tr>\n",
       "      <th></th>\n",
       "      <th>open</th>\n",
       "      <th>high</th>\n",
       "      <th>low</th>\n",
       "      <th>close</th>\n",
       "      <th>volume</th>\n",
       "      <th>daily_return</th>\n",
       "      <th>open</th>\n",
       "      <th>high</th>\n",
       "      <th>low</th>\n",
       "      <th>close</th>\n",
       "      <th>volume</th>\n",
       "      <th>daily_return</th>\n",
       "    </tr>\n",
       "    <tr>\n",
       "      <th>time</th>\n",
       "      <th></th>\n",
       "      <th></th>\n",
       "      <th></th>\n",
       "      <th></th>\n",
       "      <th></th>\n",
       "      <th></th>\n",
       "      <th></th>\n",
       "      <th></th>\n",
       "      <th></th>\n",
       "      <th></th>\n",
       "      <th></th>\n",
       "      <th></th>\n",
       "    </tr>\n",
       "  </thead>\n",
       "  <tbody>\n",
       "    <tr>\n",
       "      <th>2020-11-06 00:00:00-05:00</th>\n",
       "      <td>117.81</td>\n",
       "      <td>117.86</td>\n",
       "      <td>117.6699</td>\n",
       "      <td>117.80</td>\n",
       "      <td>5106146</td>\n",
       "      <td>NaN</td>\n",
       "      <td>349.93</td>\n",
       "      <td>351.5100</td>\n",
       "      <td>347.65</td>\n",
       "      <td>350.19</td>\n",
       "      <td>58137413</td>\n",
       "      <td>NaN</td>\n",
       "    </tr>\n",
       "    <tr>\n",
       "      <th>2020-11-09 00:00:00-05:00</th>\n",
       "      <td>117.40</td>\n",
       "      <td>117.47</td>\n",
       "      <td>117.0600</td>\n",
       "      <td>117.24</td>\n",
       "      <td>6073474</td>\n",
       "      <td>-0.004754</td>\n",
       "      <td>363.97</td>\n",
       "      <td>364.3800</td>\n",
       "      <td>354.06</td>\n",
       "      <td>354.54</td>\n",
       "      <td>140613847</td>\n",
       "      <td>0.012422</td>\n",
       "    </tr>\n",
       "    <tr>\n",
       "      <th>2020-11-10 00:00:00-05:00</th>\n",
       "      <td>117.05</td>\n",
       "      <td>117.23</td>\n",
       "      <td>117.0300</td>\n",
       "      <td>117.05</td>\n",
       "      <td>4663301</td>\n",
       "      <td>-0.001621</td>\n",
       "      <td>353.49</td>\n",
       "      <td>355.1800</td>\n",
       "      <td>350.51</td>\n",
       "      <td>354.07</td>\n",
       "      <td>69143380</td>\n",
       "      <td>-0.001326</td>\n",
       "    </tr>\n",
       "    <tr>\n",
       "      <th>2020-11-11 00:00:00-05:00</th>\n",
       "      <td>117.06</td>\n",
       "      <td>117.18</td>\n",
       "      <td>117.0200</td>\n",
       "      <td>117.15</td>\n",
       "      <td>3001773</td>\n",
       "      <td>0.000854</td>\n",
       "      <td>356.40</td>\n",
       "      <td>357.5600</td>\n",
       "      <td>355.06</td>\n",
       "      <td>356.62</td>\n",
       "      <td>45627772</td>\n",
       "      <td>0.007202</td>\n",
       "    </tr>\n",
       "    <tr>\n",
       "      <th>2020-11-12 00:00:00-05:00</th>\n",
       "      <td>117.37</td>\n",
       "      <td>117.63</td>\n",
       "      <td>117.3300</td>\n",
       "      <td>117.62</td>\n",
       "      <td>7438935</td>\n",
       "      <td>0.004012</td>\n",
       "      <td>355.58</td>\n",
       "      <td>356.7182</td>\n",
       "      <td>351.26</td>\n",
       "      <td>353.28</td>\n",
       "      <td>57393573</td>\n",
       "      <td>-0.009366</td>\n",
       "    </tr>\n",
       "  </tbody>\n",
       "</table>\n",
       "</div>"
      ],
      "text/plain": [
       "                              AGG                                     \\\n",
       "                             open    high       low   close   volume   \n",
       "time                                                                   \n",
       "2020-11-06 00:00:00-05:00  117.81  117.86  117.6699  117.80  5106146   \n",
       "2020-11-09 00:00:00-05:00  117.40  117.47  117.0600  117.24  6073474   \n",
       "2020-11-10 00:00:00-05:00  117.05  117.23  117.0300  117.05  4663301   \n",
       "2020-11-11 00:00:00-05:00  117.06  117.18  117.0200  117.15  3001773   \n",
       "2020-11-12 00:00:00-05:00  117.37  117.63  117.3300  117.62  7438935   \n",
       "\n",
       "                                           SPY                            \\\n",
       "                          daily_return    open      high     low   close   \n",
       "time                                                                       \n",
       "2020-11-06 00:00:00-05:00          NaN  349.93  351.5100  347.65  350.19   \n",
       "2020-11-09 00:00:00-05:00    -0.004754  363.97  364.3800  354.06  354.54   \n",
       "2020-11-10 00:00:00-05:00    -0.001621  353.49  355.1800  350.51  354.07   \n",
       "2020-11-11 00:00:00-05:00     0.000854  356.40  357.5600  355.06  356.62   \n",
       "2020-11-12 00:00:00-05:00     0.004012  355.58  356.7182  351.26  353.28   \n",
       "\n",
       "                                                   \n",
       "                              volume daily_return  \n",
       "time                                               \n",
       "2020-11-06 00:00:00-05:00   58137413          NaN  \n",
       "2020-11-09 00:00:00-05:00  140613847     0.012422  \n",
       "2020-11-10 00:00:00-05:00   69143380    -0.001326  \n",
       "2020-11-11 00:00:00-05:00   45627772     0.007202  \n",
       "2020-11-12 00:00:00-05:00   57393573    -0.009366  "
      ]
     },
     "execution_count": 30,
     "metadata": {},
     "output_type": "execute_result"
    }
   ],
   "source": [
    "# Configure the Monte Carlo simulation to forecast 30 years cumulative returns\n",
    "# The weights should be split 40% to AGG and 60% to SPY.\n",
    "# Run 500 samples.\n",
    "thirty_year_simulation = MCSimulation(\n",
    "    portfolio_data= df_portfolio_ten_year,\n",
    "    weights=[0.40, 0.60],\n",
    "    num_simulation=500,\n",
    "    num_trading_days=252*30,\n",
    ")\n",
    "\n",
    "# Review the simulation input data\n",
    "thirty_year_simulation.portfolio_data.head()\n"
   ]
  },
  {
   "cell_type": "code",
   "execution_count": 31,
   "metadata": {},
   "outputs": [
    {
     "name": "stdout",
     "output_type": "stream",
     "text": [
      "Running Monte Carlo simulation number 0.\n",
      "Running Monte Carlo simulation number 10.\n",
      "Running Monte Carlo simulation number 20.\n",
      "Running Monte Carlo simulation number 30.\n",
      "Running Monte Carlo simulation number 40.\n",
      "Running Monte Carlo simulation number 50.\n",
      "Running Monte Carlo simulation number 60.\n",
      "Running Monte Carlo simulation number 70.\n",
      "Running Monte Carlo simulation number 80.\n",
      "Running Monte Carlo simulation number 90.\n",
      "Running Monte Carlo simulation number 100.\n",
      "Running Monte Carlo simulation number 110.\n",
      "Running Monte Carlo simulation number 120.\n",
      "Running Monte Carlo simulation number 130.\n",
      "Running Monte Carlo simulation number 140.\n",
      "Running Monte Carlo simulation number 150.\n",
      "Running Monte Carlo simulation number 160.\n",
      "Running Monte Carlo simulation number 170.\n",
      "Running Monte Carlo simulation number 180.\n",
      "Running Monte Carlo simulation number 190.\n",
      "Running Monte Carlo simulation number 200.\n",
      "Running Monte Carlo simulation number 210.\n",
      "Running Monte Carlo simulation number 220.\n",
      "Running Monte Carlo simulation number 230.\n",
      "Running Monte Carlo simulation number 240.\n",
      "Running Monte Carlo simulation number 250.\n",
      "Running Monte Carlo simulation number 260.\n",
      "Running Monte Carlo simulation number 270.\n",
      "Running Monte Carlo simulation number 280.\n",
      "Running Monte Carlo simulation number 290.\n",
      "Running Monte Carlo simulation number 300.\n",
      "Running Monte Carlo simulation number 310.\n",
      "Running Monte Carlo simulation number 320.\n",
      "Running Monte Carlo simulation number 330.\n",
      "Running Monte Carlo simulation number 340.\n",
      "Running Monte Carlo simulation number 350.\n",
      "Running Monte Carlo simulation number 360.\n",
      "Running Monte Carlo simulation number 370.\n",
      "Running Monte Carlo simulation number 380.\n",
      "Running Monte Carlo simulation number 390.\n",
      "Running Monte Carlo simulation number 400.\n",
      "Running Monte Carlo simulation number 410.\n",
      "Running Monte Carlo simulation number 420.\n",
      "Running Monte Carlo simulation number 430.\n",
      "Running Monte Carlo simulation number 440.\n",
      "Running Monte Carlo simulation number 450.\n",
      "Running Monte Carlo simulation number 460.\n",
      "Running Monte Carlo simulation number 470.\n",
      "Running Monte Carlo simulation number 480.\n",
      "Running Monte Carlo simulation number 490.\n"
     ]
    },
    {
     "data": {
      "text/html": [
       "<div>\n",
       "<style scoped>\n",
       "    .dataframe tbody tr th:only-of-type {\n",
       "        vertical-align: middle;\n",
       "    }\n",
       "\n",
       "    .dataframe tbody tr th {\n",
       "        vertical-align: top;\n",
       "    }\n",
       "\n",
       "    .dataframe thead th {\n",
       "        text-align: right;\n",
       "    }\n",
       "</style>\n",
       "<table border=\"1\" class=\"dataframe\">\n",
       "  <thead>\n",
       "    <tr style=\"text-align: right;\">\n",
       "      <th></th>\n",
       "      <th>0</th>\n",
       "      <th>1</th>\n",
       "      <th>2</th>\n",
       "      <th>3</th>\n",
       "      <th>4</th>\n",
       "      <th>5</th>\n",
       "      <th>6</th>\n",
       "      <th>7</th>\n",
       "      <th>8</th>\n",
       "      <th>9</th>\n",
       "      <th>...</th>\n",
       "      <th>490</th>\n",
       "      <th>491</th>\n",
       "      <th>492</th>\n",
       "      <th>493</th>\n",
       "      <th>494</th>\n",
       "      <th>495</th>\n",
       "      <th>496</th>\n",
       "      <th>497</th>\n",
       "      <th>498</th>\n",
       "      <th>499</th>\n",
       "    </tr>\n",
       "  </thead>\n",
       "  <tbody>\n",
       "    <tr>\n",
       "      <th>0</th>\n",
       "      <td>1.000000</td>\n",
       "      <td>1.000000</td>\n",
       "      <td>1.000000</td>\n",
       "      <td>1.000000</td>\n",
       "      <td>1.000000</td>\n",
       "      <td>1.000000</td>\n",
       "      <td>1.000000</td>\n",
       "      <td>1.000000</td>\n",
       "      <td>1.000000</td>\n",
       "      <td>1.000000</td>\n",
       "      <td>...</td>\n",
       "      <td>1.000000</td>\n",
       "      <td>1.000000</td>\n",
       "      <td>1.000000</td>\n",
       "      <td>1.000000</td>\n",
       "      <td>1.000000</td>\n",
       "      <td>1.000000</td>\n",
       "      <td>1.000000</td>\n",
       "      <td>1.000000</td>\n",
       "      <td>1.000000</td>\n",
       "      <td>1.000000</td>\n",
       "    </tr>\n",
       "    <tr>\n",
       "      <th>1</th>\n",
       "      <td>0.993696</td>\n",
       "      <td>0.992663</td>\n",
       "      <td>0.991676</td>\n",
       "      <td>1.004671</td>\n",
       "      <td>1.000744</td>\n",
       "      <td>1.004249</td>\n",
       "      <td>1.002624</td>\n",
       "      <td>0.997306</td>\n",
       "      <td>0.999344</td>\n",
       "      <td>0.994720</td>\n",
       "      <td>...</td>\n",
       "      <td>1.012130</td>\n",
       "      <td>1.000768</td>\n",
       "      <td>1.002442</td>\n",
       "      <td>1.008461</td>\n",
       "      <td>0.996254</td>\n",
       "      <td>1.005223</td>\n",
       "      <td>1.002280</td>\n",
       "      <td>1.006259</td>\n",
       "      <td>0.996413</td>\n",
       "      <td>0.991872</td>\n",
       "    </tr>\n",
       "    <tr>\n",
       "      <th>2</th>\n",
       "      <td>0.999153</td>\n",
       "      <td>0.992673</td>\n",
       "      <td>0.993954</td>\n",
       "      <td>1.008548</td>\n",
       "      <td>0.999157</td>\n",
       "      <td>1.002272</td>\n",
       "      <td>1.007412</td>\n",
       "      <td>1.005960</td>\n",
       "      <td>1.006812</td>\n",
       "      <td>0.998568</td>\n",
       "      <td>...</td>\n",
       "      <td>1.017072</td>\n",
       "      <td>1.007659</td>\n",
       "      <td>1.000776</td>\n",
       "      <td>1.016033</td>\n",
       "      <td>1.006373</td>\n",
       "      <td>1.008758</td>\n",
       "      <td>0.994193</td>\n",
       "      <td>1.000390</td>\n",
       "      <td>0.999763</td>\n",
       "      <td>0.991649</td>\n",
       "    </tr>\n",
       "    <tr>\n",
       "      <th>3</th>\n",
       "      <td>0.999524</td>\n",
       "      <td>0.983757</td>\n",
       "      <td>0.989658</td>\n",
       "      <td>1.010098</td>\n",
       "      <td>0.996504</td>\n",
       "      <td>1.006446</td>\n",
       "      <td>1.002327</td>\n",
       "      <td>1.009973</td>\n",
       "      <td>1.015971</td>\n",
       "      <td>1.004006</td>\n",
       "      <td>...</td>\n",
       "      <td>1.013802</td>\n",
       "      <td>1.009095</td>\n",
       "      <td>1.004286</td>\n",
       "      <td>1.021028</td>\n",
       "      <td>1.009076</td>\n",
       "      <td>1.011213</td>\n",
       "      <td>0.998645</td>\n",
       "      <td>1.002838</td>\n",
       "      <td>0.992336</td>\n",
       "      <td>0.986201</td>\n",
       "    </tr>\n",
       "    <tr>\n",
       "      <th>4</th>\n",
       "      <td>1.000401</td>\n",
       "      <td>0.988770</td>\n",
       "      <td>0.989402</td>\n",
       "      <td>1.011474</td>\n",
       "      <td>1.011057</td>\n",
       "      <td>1.012908</td>\n",
       "      <td>1.004790</td>\n",
       "      <td>1.018896</td>\n",
       "      <td>1.017480</td>\n",
       "      <td>0.992751</td>\n",
       "      <td>...</td>\n",
       "      <td>1.016463</td>\n",
       "      <td>1.010776</td>\n",
       "      <td>0.995010</td>\n",
       "      <td>1.023797</td>\n",
       "      <td>1.001632</td>\n",
       "      <td>1.015595</td>\n",
       "      <td>0.990389</td>\n",
       "      <td>1.000228</td>\n",
       "      <td>1.002178</td>\n",
       "      <td>0.989975</td>\n",
       "    </tr>\n",
       "    <tr>\n",
       "      <th>...</th>\n",
       "      <td>...</td>\n",
       "      <td>...</td>\n",
       "      <td>...</td>\n",
       "      <td>...</td>\n",
       "      <td>...</td>\n",
       "      <td>...</td>\n",
       "      <td>...</td>\n",
       "      <td>...</td>\n",
       "      <td>...</td>\n",
       "      <td>...</td>\n",
       "      <td>...</td>\n",
       "      <td>...</td>\n",
       "      <td>...</td>\n",
       "      <td>...</td>\n",
       "      <td>...</td>\n",
       "      <td>...</td>\n",
       "      <td>...</td>\n",
       "      <td>...</td>\n",
       "      <td>...</td>\n",
       "      <td>...</td>\n",
       "      <td>...</td>\n",
       "    </tr>\n",
       "    <tr>\n",
       "      <th>7556</th>\n",
       "      <td>204.829071</td>\n",
       "      <td>162.926043</td>\n",
       "      <td>521.130467</td>\n",
       "      <td>145.608526</td>\n",
       "      <td>118.127665</td>\n",
       "      <td>222.296355</td>\n",
       "      <td>167.215816</td>\n",
       "      <td>165.301237</td>\n",
       "      <td>195.575768</td>\n",
       "      <td>120.700187</td>\n",
       "      <td>...</td>\n",
       "      <td>237.242564</td>\n",
       "      <td>128.090249</td>\n",
       "      <td>195.431919</td>\n",
       "      <td>397.356187</td>\n",
       "      <td>179.237968</td>\n",
       "      <td>427.371294</td>\n",
       "      <td>150.281281</td>\n",
       "      <td>289.126695</td>\n",
       "      <td>263.822135</td>\n",
       "      <td>150.331053</td>\n",
       "    </tr>\n",
       "    <tr>\n",
       "      <th>7557</th>\n",
       "      <td>206.125307</td>\n",
       "      <td>163.441968</td>\n",
       "      <td>518.881465</td>\n",
       "      <td>144.909894</td>\n",
       "      <td>119.852509</td>\n",
       "      <td>221.270766</td>\n",
       "      <td>166.372570</td>\n",
       "      <td>166.437761</td>\n",
       "      <td>195.543880</td>\n",
       "      <td>121.125700</td>\n",
       "      <td>...</td>\n",
       "      <td>239.681778</td>\n",
       "      <td>126.712031</td>\n",
       "      <td>194.084432</td>\n",
       "      <td>398.342039</td>\n",
       "      <td>180.191705</td>\n",
       "      <td>432.064898</td>\n",
       "      <td>150.539484</td>\n",
       "      <td>289.864628</td>\n",
       "      <td>265.393052</td>\n",
       "      <td>149.551189</td>\n",
       "    </tr>\n",
       "    <tr>\n",
       "      <th>7558</th>\n",
       "      <td>205.827559</td>\n",
       "      <td>163.290065</td>\n",
       "      <td>520.488530</td>\n",
       "      <td>145.000416</td>\n",
       "      <td>119.586110</td>\n",
       "      <td>220.612249</td>\n",
       "      <td>166.636016</td>\n",
       "      <td>166.514404</td>\n",
       "      <td>196.362717</td>\n",
       "      <td>120.946504</td>\n",
       "      <td>...</td>\n",
       "      <td>238.541842</td>\n",
       "      <td>126.421471</td>\n",
       "      <td>195.641116</td>\n",
       "      <td>398.101386</td>\n",
       "      <td>181.195795</td>\n",
       "      <td>432.927441</td>\n",
       "      <td>150.896051</td>\n",
       "      <td>287.565183</td>\n",
       "      <td>268.115075</td>\n",
       "      <td>150.263948</td>\n",
       "    </tr>\n",
       "    <tr>\n",
       "      <th>7559</th>\n",
       "      <td>206.813202</td>\n",
       "      <td>163.548828</td>\n",
       "      <td>520.214445</td>\n",
       "      <td>144.791888</td>\n",
       "      <td>120.017314</td>\n",
       "      <td>220.524701</td>\n",
       "      <td>167.647000</td>\n",
       "      <td>167.927950</td>\n",
       "      <td>196.724301</td>\n",
       "      <td>120.256220</td>\n",
       "      <td>...</td>\n",
       "      <td>238.860556</td>\n",
       "      <td>125.656533</td>\n",
       "      <td>195.077691</td>\n",
       "      <td>400.236720</td>\n",
       "      <td>182.356022</td>\n",
       "      <td>429.256640</td>\n",
       "      <td>150.079688</td>\n",
       "      <td>285.468335</td>\n",
       "      <td>267.465283</td>\n",
       "      <td>150.286711</td>\n",
       "    </tr>\n",
       "    <tr>\n",
       "      <th>7560</th>\n",
       "      <td>207.628788</td>\n",
       "      <td>163.205510</td>\n",
       "      <td>517.969033</td>\n",
       "      <td>144.079191</td>\n",
       "      <td>120.323534</td>\n",
       "      <td>220.742970</td>\n",
       "      <td>167.973351</td>\n",
       "      <td>168.420652</td>\n",
       "      <td>197.362479</td>\n",
       "      <td>120.400457</td>\n",
       "      <td>...</td>\n",
       "      <td>238.863398</td>\n",
       "      <td>125.860592</td>\n",
       "      <td>193.576951</td>\n",
       "      <td>403.159280</td>\n",
       "      <td>184.331882</td>\n",
       "      <td>429.761562</td>\n",
       "      <td>150.874471</td>\n",
       "      <td>285.060905</td>\n",
       "      <td>267.598813</td>\n",
       "      <td>150.698351</td>\n",
       "    </tr>\n",
       "  </tbody>\n",
       "</table>\n",
       "<p>7561 rows × 500 columns</p>\n",
       "</div>"
      ],
      "text/plain": [
       "             0           1           2           3           4           5    \\\n",
       "0       1.000000    1.000000    1.000000    1.000000    1.000000    1.000000   \n",
       "1       0.993696    0.992663    0.991676    1.004671    1.000744    1.004249   \n",
       "2       0.999153    0.992673    0.993954    1.008548    0.999157    1.002272   \n",
       "3       0.999524    0.983757    0.989658    1.010098    0.996504    1.006446   \n",
       "4       1.000401    0.988770    0.989402    1.011474    1.011057    1.012908   \n",
       "...          ...         ...         ...         ...         ...         ...   \n",
       "7556  204.829071  162.926043  521.130467  145.608526  118.127665  222.296355   \n",
       "7557  206.125307  163.441968  518.881465  144.909894  119.852509  221.270766   \n",
       "7558  205.827559  163.290065  520.488530  145.000416  119.586110  220.612249   \n",
       "7559  206.813202  163.548828  520.214445  144.791888  120.017314  220.524701   \n",
       "7560  207.628788  163.205510  517.969033  144.079191  120.323534  220.742970   \n",
       "\n",
       "             6           7           8           9    ...         490  \\\n",
       "0       1.000000    1.000000    1.000000    1.000000  ...    1.000000   \n",
       "1       1.002624    0.997306    0.999344    0.994720  ...    1.012130   \n",
       "2       1.007412    1.005960    1.006812    0.998568  ...    1.017072   \n",
       "3       1.002327    1.009973    1.015971    1.004006  ...    1.013802   \n",
       "4       1.004790    1.018896    1.017480    0.992751  ...    1.016463   \n",
       "...          ...         ...         ...         ...  ...         ...   \n",
       "7556  167.215816  165.301237  195.575768  120.700187  ...  237.242564   \n",
       "7557  166.372570  166.437761  195.543880  121.125700  ...  239.681778   \n",
       "7558  166.636016  166.514404  196.362717  120.946504  ...  238.541842   \n",
       "7559  167.647000  167.927950  196.724301  120.256220  ...  238.860556   \n",
       "7560  167.973351  168.420652  197.362479  120.400457  ...  238.863398   \n",
       "\n",
       "             491         492         493         494         495         496  \\\n",
       "0       1.000000    1.000000    1.000000    1.000000    1.000000    1.000000   \n",
       "1       1.000768    1.002442    1.008461    0.996254    1.005223    1.002280   \n",
       "2       1.007659    1.000776    1.016033    1.006373    1.008758    0.994193   \n",
       "3       1.009095    1.004286    1.021028    1.009076    1.011213    0.998645   \n",
       "4       1.010776    0.995010    1.023797    1.001632    1.015595    0.990389   \n",
       "...          ...         ...         ...         ...         ...         ...   \n",
       "7556  128.090249  195.431919  397.356187  179.237968  427.371294  150.281281   \n",
       "7557  126.712031  194.084432  398.342039  180.191705  432.064898  150.539484   \n",
       "7558  126.421471  195.641116  398.101386  181.195795  432.927441  150.896051   \n",
       "7559  125.656533  195.077691  400.236720  182.356022  429.256640  150.079688   \n",
       "7560  125.860592  193.576951  403.159280  184.331882  429.761562  150.874471   \n",
       "\n",
       "             497         498         499  \n",
       "0       1.000000    1.000000    1.000000  \n",
       "1       1.006259    0.996413    0.991872  \n",
       "2       1.000390    0.999763    0.991649  \n",
       "3       1.002838    0.992336    0.986201  \n",
       "4       1.000228    1.002178    0.989975  \n",
       "...          ...         ...         ...  \n",
       "7556  289.126695  263.822135  150.331053  \n",
       "7557  289.864628  265.393052  149.551189  \n",
       "7558  287.565183  268.115075  150.263948  \n",
       "7559  285.468335  267.465283  150.286711  \n",
       "7560  285.060905  267.598813  150.698351  \n",
       "\n",
       "[7561 rows x 500 columns]"
      ]
     },
     "execution_count": 31,
     "metadata": {},
     "output_type": "execute_result"
    }
   ],
   "source": [
    "# Run the Monte Carlo simulation to forecast 30 years cumulative returns\n",
    "thirty_year_simulation.calc_cumulative_return()\n"
   ]
  },
  {
   "cell_type": "code",
   "execution_count": 32,
   "metadata": {},
   "outputs": [
    {
     "data": {
      "text/plain": [
       "<AxesSubplot:title={'center':'500 Simulations of Cumulative Portfolio Return Trajectories Over the Next 7560 Trading Days.'}>"
      ]
     },
     "execution_count": 32,
     "metadata": {},
     "output_type": "execute_result"
    },
    {
     "data": {
      "image/png": "[encoded data removed]",
      "text/plain": [
       "<Figure size 432x288 with 1 Axes>"
      ]
     },
     "metadata": {
      "needs_background": "light"
     },
     "output_type": "display_data"
    }
   ],
   "source": [
    "# Visualize the 30-year Monte Carlo simulation by creating an\n",
    "# overlay line plot\n",
    "thirty_year_simulation.plot_simulation()\n"
   ]
  },
  {
   "cell_type": "markdown",
   "metadata": {},
   "source": [
    "#### Step 3: Plot the probability distribution of the Monte Carlo simulation."
   ]
  },
  {
   "cell_type": "code",
   "execution_count": 33,
   "metadata": {},
   "outputs": [
    {
     "data": {
      "text/plain": [
       "<AxesSubplot:title={'center':'Distribution of Final Cumuluative Returns Across All 500 Simulations'}, ylabel='Frequency'>"
      ]
     },
     "execution_count": 33,
     "metadata": {},
     "output_type": "execute_result"
    },
    {
     "data": {
      "image/png": "[encoded data removed]",
      "text/plain": [
       "<Figure size 432x288 with 1 Axes>"
      ]
     },
     "metadata": {
      "needs_background": "light"
     },
     "output_type": "display_data"
    }
   ],
   "source": [
    "# Visualize the probability distribution of the 30-year Monte Carlo simulation \n",
    "# by plotting a histogram\n",
    "thirty_year_simulation.plot_distribution()\n"
   ]
  },
  {
   "cell_type": "markdown",
   "metadata": {},
   "source": [
    "#### Step 4: Generate the summary statistics for the Monte Carlo simulation."
   ]
  },
  {
   "cell_type": "code",
   "execution_count": 34,
   "metadata": {},
   "outputs": [
    {
     "name": "stdout",
     "output_type": "stream",
     "text": [
      "count           500.000000\n",
      "mean            212.164833\n",
      "std             105.591399\n",
      "min              62.642403\n",
      "25%             135.896489\n",
      "50%             189.734967\n",
      "75%             263.739501\n",
      "max             927.591723\n",
      "95% CI Lower     80.659712\n",
      "95% CI Upper    471.725384\n",
      "Name: 7560, dtype: float64\n"
     ]
    }
   ],
   "source": [
    "# Generate summary statistics from the 30-year Monte Carlo simulation results\n",
    "thirty_year_simulation_statistics = thirty_year_simulation.summarize_cumulative_return()\n",
    "\n",
    "\n",
    "# Review the 30-year Monte Carlo summary statistics\n",
    "print(thirty_year_simulation_statistics)"
   ]
  },
  {
   "cell_type": "markdown",
   "metadata": {},
   "source": [
    "### Analyze the Retirement Portfolio Forecasts\n",
    "\n",
    "Using the current value of only the stock and bond portion of the member's portfolio and the summary statistics that you generated from the Monte Carlo simulation, answer the following question in your Jupyter notebook:\n",
    "\n",
    "-  What are the lower and upper bounds for the expected value of the portfolio with a 95% confidence interval?\n"
   ]
  },
  {
   "cell_type": "code",
   "execution_count": 35,
   "metadata": {},
   "outputs": [
    {
     "name": "stdout",
     "output_type": "stream",
     "text": [
      "The current value of the bond and stock portfolio is $ 50045.20\n"
     ]
    }
   ],
   "source": [
    "# Print the current balance of the stock and bond portion of the members portfolio\n",
    "print(f\"The current value of the bond and stock portfolio is ${total_stocks_bonds: .2f}\")\n"
   ]
  },
  {
   "cell_type": "code",
   "execution_count": 36,
   "metadata": {},
   "outputs": [
    {
     "name": "stdout",
     "output_type": "stream",
     "text": [
      "There is a 95% chance that a valuation of $50,045.20 in the portfolio over the next year will end within in the range of $4,036,631.40 and $23,607,591.17.\n"
     ]
    }
   ],
   "source": [
    "# Use the lower and upper `95%` confidence intervals to calculate the range of the possible outcomes for the current stock/bond portfolio\n",
    "ci_lower_thirty_cumulative_return = thirty_year_simulation_statistics[8] * total_stocks_bonds\n",
    "ci_upper_thirty_cumulative_return = thirty_year_simulation_statistics[9] * total_stocks_bonds\n",
    "\n",
    "\n",
    "# Print the result of your calculations\n",
    "print(f\"There is a 95% chance that a valuation of ${total_stocks_bonds:,.2f} in the portfolio\"\n",
    "      f\" over the next year will end within in the range of\"\n",
    "      f\" ${ci_lower_thirty_cumulative_return:,.2f} and ${ci_upper_thirty_cumulative_return:,.2f}.\")\n"
   ]
  },
  {
   "cell_type": "markdown",
   "metadata": {},
   "source": [
    "### Forecast Cumulative Returns in 10 Years\n",
    "\n",
    "The CTO of the credit union is impressed with your work on these planning tools but wonders if 30 years is a long time to wait until retirement. So, your next task is to adjust the retirement portfolio and run a new Monte Carlo simulation to find out if the changes will allow members to retire earlier.\n",
    "\n",
    "For this new Monte Carlo simulation, do the following: \n",
    "\n",
    "- Forecast the cumulative returns for 10 years from now. Because of the shortened investment horizon (30 years to 10 years), the portfolio needs to invest more heavily in the riskier asset&mdash;that is, stock&mdash;to help accumulate wealth for retirement. \n",
    "\n",
    "- Adjust the weights of the retirement portfolio so that the composition for the Monte Carlo simulation consists of 20% bonds and 80% stocks. \n",
    "\n",
    "- Run the simulation over 500 samples, and use the same data that the API call to Alpaca generated.\n",
    "\n",
    "- Based on the new Monte Carlo simulation, answer the following questions in your Jupyter notebook:\n",
    "\n",
    "    - Using the current value of only the stock and bond portion of the member's portfolio and the summary statistics that you generated from the new Monte Carlo simulation, what are the lower and upper bounds for the expected value of the portfolio (with the new weights) with a 95% confidence interval?\n",
    "\n",
    "    - Will weighting the portfolio more heavily toward stocks allow the credit union members to retire after only 10 years?\n"
   ]
  },
  {
   "cell_type": "code",
   "execution_count": 37,
   "metadata": {},
   "outputs": [
    {
     "data": {
      "text/html": [
       "<div>\n",
       "<style scoped>\n",
       "    .dataframe tbody tr th:only-of-type {\n",
       "        vertical-align: middle;\n",
       "    }\n",
       "\n",
       "    .dataframe tbody tr th {\n",
       "        vertical-align: top;\n",
       "    }\n",
       "\n",
       "    .dataframe thead tr th {\n",
       "        text-align: left;\n",
       "    }\n",
       "\n",
       "    .dataframe thead tr:last-of-type th {\n",
       "        text-align: right;\n",
       "    }\n",
       "</style>\n",
       "<table border=\"1\" class=\"dataframe\">\n",
       "  <thead>\n",
       "    <tr>\n",
       "      <th></th>\n",
       "      <th colspan=\"6\" halign=\"left\">AGG</th>\n",
       "      <th colspan=\"6\" halign=\"left\">SPY</th>\n",
       "    </tr>\n",
       "    <tr>\n",
       "      <th></th>\n",
       "      <th>open</th>\n",
       "      <th>high</th>\n",
       "      <th>low</th>\n",
       "      <th>close</th>\n",
       "      <th>volume</th>\n",
       "      <th>daily_return</th>\n",
       "      <th>open</th>\n",
       "      <th>high</th>\n",
       "      <th>low</th>\n",
       "      <th>close</th>\n",
       "      <th>volume</th>\n",
       "      <th>daily_return</th>\n",
       "    </tr>\n",
       "    <tr>\n",
       "      <th>time</th>\n",
       "      <th></th>\n",
       "      <th></th>\n",
       "      <th></th>\n",
       "      <th></th>\n",
       "      <th></th>\n",
       "      <th></th>\n",
       "      <th></th>\n",
       "      <th></th>\n",
       "      <th></th>\n",
       "      <th></th>\n",
       "      <th></th>\n",
       "      <th></th>\n",
       "    </tr>\n",
       "  </thead>\n",
       "  <tbody>\n",
       "    <tr>\n",
       "      <th>2020-11-06 00:00:00-05:00</th>\n",
       "      <td>117.81</td>\n",
       "      <td>117.86</td>\n",
       "      <td>117.6699</td>\n",
       "      <td>117.80</td>\n",
       "      <td>5106146</td>\n",
       "      <td>NaN</td>\n",
       "      <td>349.93</td>\n",
       "      <td>351.5100</td>\n",
       "      <td>347.65</td>\n",
       "      <td>350.19</td>\n",
       "      <td>58137413</td>\n",
       "      <td>NaN</td>\n",
       "    </tr>\n",
       "    <tr>\n",
       "      <th>2020-11-09 00:00:00-05:00</th>\n",
       "      <td>117.40</td>\n",
       "      <td>117.47</td>\n",
       "      <td>117.0600</td>\n",
       "      <td>117.24</td>\n",
       "      <td>6073474</td>\n",
       "      <td>-0.004754</td>\n",
       "      <td>363.97</td>\n",
       "      <td>364.3800</td>\n",
       "      <td>354.06</td>\n",
       "      <td>354.54</td>\n",
       "      <td>140613847</td>\n",
       "      <td>0.012422</td>\n",
       "    </tr>\n",
       "    <tr>\n",
       "      <th>2020-11-10 00:00:00-05:00</th>\n",
       "      <td>117.05</td>\n",
       "      <td>117.23</td>\n",
       "      <td>117.0300</td>\n",
       "      <td>117.05</td>\n",
       "      <td>4663301</td>\n",
       "      <td>-0.001621</td>\n",
       "      <td>353.49</td>\n",
       "      <td>355.1800</td>\n",
       "      <td>350.51</td>\n",
       "      <td>354.07</td>\n",
       "      <td>69143380</td>\n",
       "      <td>-0.001326</td>\n",
       "    </tr>\n",
       "    <tr>\n",
       "      <th>2020-11-11 00:00:00-05:00</th>\n",
       "      <td>117.06</td>\n",
       "      <td>117.18</td>\n",
       "      <td>117.0200</td>\n",
       "      <td>117.15</td>\n",
       "      <td>3001773</td>\n",
       "      <td>0.000854</td>\n",
       "      <td>356.40</td>\n",
       "      <td>357.5600</td>\n",
       "      <td>355.06</td>\n",
       "      <td>356.62</td>\n",
       "      <td>45627772</td>\n",
       "      <td>0.007202</td>\n",
       "    </tr>\n",
       "    <tr>\n",
       "      <th>2020-11-12 00:00:00-05:00</th>\n",
       "      <td>117.37</td>\n",
       "      <td>117.63</td>\n",
       "      <td>117.3300</td>\n",
       "      <td>117.62</td>\n",
       "      <td>7438935</td>\n",
       "      <td>0.004012</td>\n",
       "      <td>355.58</td>\n",
       "      <td>356.7182</td>\n",
       "      <td>351.26</td>\n",
       "      <td>353.28</td>\n",
       "      <td>57393573</td>\n",
       "      <td>-0.009366</td>\n",
       "    </tr>\n",
       "  </tbody>\n",
       "</table>\n",
       "</div>"
      ],
      "text/plain": [
       "                              AGG                                     \\\n",
       "                             open    high       low   close   volume   \n",
       "time                                                                   \n",
       "2020-11-06 00:00:00-05:00  117.81  117.86  117.6699  117.80  5106146   \n",
       "2020-11-09 00:00:00-05:00  117.40  117.47  117.0600  117.24  6073474   \n",
       "2020-11-10 00:00:00-05:00  117.05  117.23  117.0300  117.05  4663301   \n",
       "2020-11-11 00:00:00-05:00  117.06  117.18  117.0200  117.15  3001773   \n",
       "2020-11-12 00:00:00-05:00  117.37  117.63  117.3300  117.62  7438935   \n",
       "\n",
       "                                           SPY                            \\\n",
       "                          daily_return    open      high     low   close   \n",
       "time                                                                       \n",
       "2020-11-06 00:00:00-05:00          NaN  349.93  351.5100  347.65  350.19   \n",
       "2020-11-09 00:00:00-05:00    -0.004754  363.97  364.3800  354.06  354.54   \n",
       "2020-11-10 00:00:00-05:00    -0.001621  353.49  355.1800  350.51  354.07   \n",
       "2020-11-11 00:00:00-05:00     0.000854  356.40  357.5600  355.06  356.62   \n",
       "2020-11-12 00:00:00-05:00     0.004012  355.58  356.7182  351.26  353.28   \n",
       "\n",
       "                                                   \n",
       "                              volume daily_return  \n",
       "time                                               \n",
       "2020-11-06 00:00:00-05:00   58137413          NaN  \n",
       "2020-11-09 00:00:00-05:00  140613847     0.012422  \n",
       "2020-11-10 00:00:00-05:00   69143380    -0.001326  \n",
       "2020-11-11 00:00:00-05:00   45627772     0.007202  \n",
       "2020-11-12 00:00:00-05:00   57393573    -0.009366  "
      ]
     },
     "execution_count": 37,
     "metadata": {},
     "output_type": "execute_result"
    }
   ],
   "source": [
    "# Configure a Monte Carlo simulation to forecast 10 years cumulative returns\n",
    "# The weights should be split 20% to AGG and 80% to SPY.\n",
    "# Run 500 samples.\n",
    "ten_year_simulation = MCSimulation(\n",
    "    portfolio_data= df_portfolio_ten_year,\n",
    "    weights=[0.20, 0.80],\n",
    "    num_simulation=500,\n",
    "    num_trading_days=252*10,\n",
    ")\n",
    "\n",
    "\n",
    "# Review the simulation input data\n",
    "ten_year_simulation.portfolio_data.head()\n"
   ]
  },
  {
   "cell_type": "code",
   "execution_count": 38,
   "metadata": {},
   "outputs": [
    {
     "name": "stdout",
     "output_type": "stream",
     "text": [
      "Running Monte Carlo simulation number 0.\n",
      "Running Monte Carlo simulation number 10.\n",
      "Running Monte Carlo simulation number 20.\n",
      "Running Monte Carlo simulation number 30.\n",
      "Running Monte Carlo simulation number 40.\n",
      "Running Monte Carlo simulation number 50.\n",
      "Running Monte Carlo simulation number 60.\n",
      "Running Monte Carlo simulation number 70.\n",
      "Running Monte Carlo simulation number 80.\n",
      "Running Monte Carlo simulation number 90.\n",
      "Running Monte Carlo simulation number 100.\n",
      "Running Monte Carlo simulation number 110.\n",
      "Running Monte Carlo simulation number 120.\n",
      "Running Monte Carlo simulation number 130.\n",
      "Running Monte Carlo simulation number 140.\n",
      "Running Monte Carlo simulation number 150.\n",
      "Running Monte Carlo simulation number 160.\n",
      "Running Monte Carlo simulation number 170.\n",
      "Running Monte Carlo simulation number 180.\n",
      "Running Monte Carlo simulation number 190.\n",
      "Running Monte Carlo simulation number 200.\n",
      "Running Monte Carlo simulation number 210.\n",
      "Running Monte Carlo simulation number 220.\n",
      "Running Monte Carlo simulation number 230.\n",
      "Running Monte Carlo simulation number 240.\n",
      "Running Monte Carlo simulation number 250.\n",
      "Running Monte Carlo simulation number 260.\n",
      "Running Monte Carlo simulation number 270.\n",
      "Running Monte Carlo simulation number 280.\n",
      "Running Monte Carlo simulation number 290.\n",
      "Running Monte Carlo simulation number 300.\n",
      "Running Monte Carlo simulation number 310.\n",
      "Running Monte Carlo simulation number 320.\n",
      "Running Monte Carlo simulation number 330.\n",
      "Running Monte Carlo simulation number 340.\n",
      "Running Monte Carlo simulation number 350.\n",
      "Running Monte Carlo simulation number 360.\n",
      "Running Monte Carlo simulation number 370.\n",
      "Running Monte Carlo simulation number 380.\n",
      "Running Monte Carlo simulation number 390.\n",
      "Running Monte Carlo simulation number 400.\n",
      "Running Monte Carlo simulation number 410.\n",
      "Running Monte Carlo simulation number 420.\n",
      "Running Monte Carlo simulation number 430.\n",
      "Running Monte Carlo simulation number 440.\n",
      "Running Monte Carlo simulation number 450.\n",
      "Running Monte Carlo simulation number 460.\n",
      "Running Monte Carlo simulation number 470.\n",
      "Running Monte Carlo simulation number 480.\n",
      "Running Monte Carlo simulation number 490.\n"
     ]
    },
    {
     "data": {
      "text/html": [
       "<div>\n",
       "<style scoped>\n",
       "    .dataframe tbody tr th:only-of-type {\n",
       "        vertical-align: middle;\n",
       "    }\n",
       "\n",
       "    .dataframe tbody tr th {\n",
       "        vertical-align: top;\n",
       "    }\n",
       "\n",
       "    .dataframe thead th {\n",
       "        text-align: right;\n",
       "    }\n",
       "</style>\n",
       "<table border=\"1\" class=\"dataframe\">\n",
       "  <thead>\n",
       "    <tr style=\"text-align: right;\">\n",
       "      <th></th>\n",
       "      <th>0</th>\n",
       "      <th>1</th>\n",
       "      <th>2</th>\n",
       "      <th>3</th>\n",
       "      <th>4</th>\n",
       "      <th>5</th>\n",
       "      <th>6</th>\n",
       "      <th>7</th>\n",
       "      <th>8</th>\n",
       "      <th>9</th>\n",
       "      <th>...</th>\n",
       "      <th>490</th>\n",
       "      <th>491</th>\n",
       "      <th>492</th>\n",
       "      <th>493</th>\n",
       "      <th>494</th>\n",
       "      <th>495</th>\n",
       "      <th>496</th>\n",
       "      <th>497</th>\n",
       "      <th>498</th>\n",
       "      <th>499</th>\n",
       "    </tr>\n",
       "  </thead>\n",
       "  <tbody>\n",
       "    <tr>\n",
       "      <th>0</th>\n",
       "      <td>1.000000</td>\n",
       "      <td>1.000000</td>\n",
       "      <td>1.000000</td>\n",
       "      <td>1.000000</td>\n",
       "      <td>1.000000</td>\n",
       "      <td>1.000000</td>\n",
       "      <td>1.000000</td>\n",
       "      <td>1.000000</td>\n",
       "      <td>1.000000</td>\n",
       "      <td>1.000000</td>\n",
       "      <td>...</td>\n",
       "      <td>1.000000</td>\n",
       "      <td>1.000000</td>\n",
       "      <td>1.000000</td>\n",
       "      <td>1.000000</td>\n",
       "      <td>1.000000</td>\n",
       "      <td>1.000000</td>\n",
       "      <td>1.000000</td>\n",
       "      <td>1.000000</td>\n",
       "      <td>1.000000</td>\n",
       "      <td>1.000000</td>\n",
       "    </tr>\n",
       "    <tr>\n",
       "      <th>1</th>\n",
       "      <td>1.002406</td>\n",
       "      <td>1.002118</td>\n",
       "      <td>0.991407</td>\n",
       "      <td>0.994727</td>\n",
       "      <td>0.998542</td>\n",
       "      <td>1.008073</td>\n",
       "      <td>1.010953</td>\n",
       "      <td>1.003118</td>\n",
       "      <td>0.999359</td>\n",
       "      <td>1.001841</td>\n",
       "      <td>...</td>\n",
       "      <td>1.003342</td>\n",
       "      <td>0.993922</td>\n",
       "      <td>0.995776</td>\n",
       "      <td>0.997671</td>\n",
       "      <td>0.995683</td>\n",
       "      <td>1.011252</td>\n",
       "      <td>1.001734</td>\n",
       "      <td>1.003822</td>\n",
       "      <td>0.999979</td>\n",
       "      <td>0.991912</td>\n",
       "    </tr>\n",
       "    <tr>\n",
       "      <th>2</th>\n",
       "      <td>0.996468</td>\n",
       "      <td>1.016026</td>\n",
       "      <td>1.002037</td>\n",
       "      <td>1.005319</td>\n",
       "      <td>0.996433</td>\n",
       "      <td>1.006291</td>\n",
       "      <td>1.004953</td>\n",
       "      <td>1.000674</td>\n",
       "      <td>0.992393</td>\n",
       "      <td>1.008502</td>\n",
       "      <td>...</td>\n",
       "      <td>1.016867</td>\n",
       "      <td>0.998941</td>\n",
       "      <td>0.980964</td>\n",
       "      <td>1.017741</td>\n",
       "      <td>0.999039</td>\n",
       "      <td>1.012791</td>\n",
       "      <td>1.004281</td>\n",
       "      <td>1.013214</td>\n",
       "      <td>1.003821</td>\n",
       "      <td>0.994293</td>\n",
       "    </tr>\n",
       "    <tr>\n",
       "      <th>3</th>\n",
       "      <td>0.999823</td>\n",
       "      <td>1.019487</td>\n",
       "      <td>1.002563</td>\n",
       "      <td>1.008730</td>\n",
       "      <td>0.996649</td>\n",
       "      <td>0.991665</td>\n",
       "      <td>1.001293</td>\n",
       "      <td>1.005555</td>\n",
       "      <td>0.993865</td>\n",
       "      <td>1.015709</td>\n",
       "      <td>...</td>\n",
       "      <td>1.020486</td>\n",
       "      <td>0.995763</td>\n",
       "      <td>0.986476</td>\n",
       "      <td>1.021031</td>\n",
       "      <td>1.009543</td>\n",
       "      <td>1.026264</td>\n",
       "      <td>1.006225</td>\n",
       "      <td>1.014088</td>\n",
       "      <td>1.000730</td>\n",
       "      <td>1.005685</td>\n",
       "    </tr>\n",
       "    <tr>\n",
       "      <th>4</th>\n",
       "      <td>1.010078</td>\n",
       "      <td>1.022893</td>\n",
       "      <td>1.001290</td>\n",
       "      <td>1.010571</td>\n",
       "      <td>0.998052</td>\n",
       "      <td>0.983649</td>\n",
       "      <td>0.998104</td>\n",
       "      <td>0.999776</td>\n",
       "      <td>0.995555</td>\n",
       "      <td>1.016736</td>\n",
       "      <td>...</td>\n",
       "      <td>1.028536</td>\n",
       "      <td>0.995889</td>\n",
       "      <td>0.992961</td>\n",
       "      <td>1.023252</td>\n",
       "      <td>1.010946</td>\n",
       "      <td>1.025355</td>\n",
       "      <td>1.021853</td>\n",
       "      <td>1.000973</td>\n",
       "      <td>1.002848</td>\n",
       "      <td>1.006827</td>\n",
       "    </tr>\n",
       "    <tr>\n",
       "      <th>...</th>\n",
       "      <td>...</td>\n",
       "      <td>...</td>\n",
       "      <td>...</td>\n",
       "      <td>...</td>\n",
       "      <td>...</td>\n",
       "      <td>...</td>\n",
       "      <td>...</td>\n",
       "      <td>...</td>\n",
       "      <td>...</td>\n",
       "      <td>...</td>\n",
       "      <td>...</td>\n",
       "      <td>...</td>\n",
       "      <td>...</td>\n",
       "      <td>...</td>\n",
       "      <td>...</td>\n",
       "      <td>...</td>\n",
       "      <td>...</td>\n",
       "      <td>...</td>\n",
       "      <td>...</td>\n",
       "      <td>...</td>\n",
       "      <td>...</td>\n",
       "    </tr>\n",
       "    <tr>\n",
       "      <th>2516</th>\n",
       "      <td>13.613530</td>\n",
       "      <td>17.447418</td>\n",
       "      <td>16.463179</td>\n",
       "      <td>16.860819</td>\n",
       "      <td>26.736554</td>\n",
       "      <td>8.792250</td>\n",
       "      <td>24.407019</td>\n",
       "      <td>15.865810</td>\n",
       "      <td>12.566586</td>\n",
       "      <td>14.424081</td>\n",
       "      <td>...</td>\n",
       "      <td>13.918204</td>\n",
       "      <td>15.262034</td>\n",
       "      <td>13.378888</td>\n",
       "      <td>34.443484</td>\n",
       "      <td>12.069861</td>\n",
       "      <td>13.560832</td>\n",
       "      <td>17.540702</td>\n",
       "      <td>14.104952</td>\n",
       "      <td>6.650954</td>\n",
       "      <td>17.485963</td>\n",
       "    </tr>\n",
       "    <tr>\n",
       "      <th>2517</th>\n",
       "      <td>13.629745</td>\n",
       "      <td>17.331082</td>\n",
       "      <td>16.520721</td>\n",
       "      <td>17.033625</td>\n",
       "      <td>26.718747</td>\n",
       "      <td>8.858921</td>\n",
       "      <td>24.313884</td>\n",
       "      <td>15.874918</td>\n",
       "      <td>12.742339</td>\n",
       "      <td>14.314865</td>\n",
       "      <td>...</td>\n",
       "      <td>13.927608</td>\n",
       "      <td>15.394696</td>\n",
       "      <td>13.277442</td>\n",
       "      <td>34.283243</td>\n",
       "      <td>12.014910</td>\n",
       "      <td>13.647615</td>\n",
       "      <td>17.389696</td>\n",
       "      <td>14.112589</td>\n",
       "      <td>6.588983</td>\n",
       "      <td>17.535809</td>\n",
       "    </tr>\n",
       "    <tr>\n",
       "      <th>2518</th>\n",
       "      <td>13.759658</td>\n",
       "      <td>17.253816</td>\n",
       "      <td>16.494264</td>\n",
       "      <td>17.199581</td>\n",
       "      <td>26.600566</td>\n",
       "      <td>8.873248</td>\n",
       "      <td>24.364757</td>\n",
       "      <td>15.967733</td>\n",
       "      <td>12.681470</td>\n",
       "      <td>14.397507</td>\n",
       "      <td>...</td>\n",
       "      <td>13.768555</td>\n",
       "      <td>15.608536</td>\n",
       "      <td>13.140023</td>\n",
       "      <td>34.452472</td>\n",
       "      <td>11.960672</td>\n",
       "      <td>13.679167</td>\n",
       "      <td>17.497738</td>\n",
       "      <td>14.116980</td>\n",
       "      <td>6.679187</td>\n",
       "      <td>17.792749</td>\n",
       "    </tr>\n",
       "    <tr>\n",
       "      <th>2519</th>\n",
       "      <td>13.730800</td>\n",
       "      <td>17.344338</td>\n",
       "      <td>16.780152</td>\n",
       "      <td>17.134898</td>\n",
       "      <td>26.433626</td>\n",
       "      <td>8.964827</td>\n",
       "      <td>24.381746</td>\n",
       "      <td>16.048342</td>\n",
       "      <td>12.575851</td>\n",
       "      <td>14.391828</td>\n",
       "      <td>...</td>\n",
       "      <td>13.726639</td>\n",
       "      <td>15.547054</td>\n",
       "      <td>13.075985</td>\n",
       "      <td>34.484616</td>\n",
       "      <td>11.902789</td>\n",
       "      <td>13.742502</td>\n",
       "      <td>17.470280</td>\n",
       "      <td>14.151534</td>\n",
       "      <td>6.659932</td>\n",
       "      <td>18.002771</td>\n",
       "    </tr>\n",
       "    <tr>\n",
       "      <th>2520</th>\n",
       "      <td>13.626486</td>\n",
       "      <td>17.108790</td>\n",
       "      <td>16.816288</td>\n",
       "      <td>17.220034</td>\n",
       "      <td>26.289640</td>\n",
       "      <td>8.939638</td>\n",
       "      <td>24.203501</td>\n",
       "      <td>16.151568</td>\n",
       "      <td>12.480522</td>\n",
       "      <td>14.343419</td>\n",
       "      <td>...</td>\n",
       "      <td>13.692790</td>\n",
       "      <td>15.573771</td>\n",
       "      <td>13.248054</td>\n",
       "      <td>34.308250</td>\n",
       "      <td>12.102141</td>\n",
       "      <td>13.785924</td>\n",
       "      <td>17.308026</td>\n",
       "      <td>14.165987</td>\n",
       "      <td>6.625289</td>\n",
       "      <td>18.165371</td>\n",
       "    </tr>\n",
       "  </tbody>\n",
       "</table>\n",
       "<p>2521 rows × 500 columns</p>\n",
       "</div>"
      ],
      "text/plain": [
       "            0          1          2          3          4         5    \\\n",
       "0      1.000000   1.000000   1.000000   1.000000   1.000000  1.000000   \n",
       "1      1.002406   1.002118   0.991407   0.994727   0.998542  1.008073   \n",
       "2      0.996468   1.016026   1.002037   1.005319   0.996433  1.006291   \n",
       "3      0.999823   1.019487   1.002563   1.008730   0.996649  0.991665   \n",
       "4      1.010078   1.022893   1.001290   1.010571   0.998052  0.983649   \n",
       "...         ...        ...        ...        ...        ...       ...   \n",
       "2516  13.613530  17.447418  16.463179  16.860819  26.736554  8.792250   \n",
       "2517  13.629745  17.331082  16.520721  17.033625  26.718747  8.858921   \n",
       "2518  13.759658  17.253816  16.494264  17.199581  26.600566  8.873248   \n",
       "2519  13.730800  17.344338  16.780152  17.134898  26.433626  8.964827   \n",
       "2520  13.626486  17.108790  16.816288  17.220034  26.289640  8.939638   \n",
       "\n",
       "            6          7          8          9    ...        490        491  \\\n",
       "0      1.000000   1.000000   1.000000   1.000000  ...   1.000000   1.000000   \n",
       "1      1.010953   1.003118   0.999359   1.001841  ...   1.003342   0.993922   \n",
       "2      1.004953   1.000674   0.992393   1.008502  ...   1.016867   0.998941   \n",
       "3      1.001293   1.005555   0.993865   1.015709  ...   1.020486   0.995763   \n",
       "4      0.998104   0.999776   0.995555   1.016736  ...   1.028536   0.995889   \n",
       "...         ...        ...        ...        ...  ...        ...        ...   \n",
       "2516  24.407019  15.865810  12.566586  14.424081  ...  13.918204  15.262034   \n",
       "2517  24.313884  15.874918  12.742339  14.314865  ...  13.927608  15.394696   \n",
       "2518  24.364757  15.967733  12.681470  14.397507  ...  13.768555  15.608536   \n",
       "2519  24.381746  16.048342  12.575851  14.391828  ...  13.726639  15.547054   \n",
       "2520  24.203501  16.151568  12.480522  14.343419  ...  13.692790  15.573771   \n",
       "\n",
       "            492        493        494        495        496        497  \\\n",
       "0      1.000000   1.000000   1.000000   1.000000   1.000000   1.000000   \n",
       "1      0.995776   0.997671   0.995683   1.011252   1.001734   1.003822   \n",
       "2      0.980964   1.017741   0.999039   1.012791   1.004281   1.013214   \n",
       "3      0.986476   1.021031   1.009543   1.026264   1.006225   1.014088   \n",
       "4      0.992961   1.023252   1.010946   1.025355   1.021853   1.000973   \n",
       "...         ...        ...        ...        ...        ...        ...   \n",
       "2516  13.378888  34.443484  12.069861  13.560832  17.540702  14.104952   \n",
       "2517  13.277442  34.283243  12.014910  13.647615  17.389696  14.112589   \n",
       "2518  13.140023  34.452472  11.960672  13.679167  17.497738  14.116980   \n",
       "2519  13.075985  34.484616  11.902789  13.742502  17.470280  14.151534   \n",
       "2520  13.248054  34.308250  12.102141  13.785924  17.308026  14.165987   \n",
       "\n",
       "           498        499  \n",
       "0     1.000000   1.000000  \n",
       "1     0.999979   0.991912  \n",
       "2     1.003821   0.994293  \n",
       "3     1.000730   1.005685  \n",
       "4     1.002848   1.006827  \n",
       "...        ...        ...  \n",
       "2516  6.650954  17.485963  \n",
       "2517  6.588983  17.535809  \n",
       "2518  6.679187  17.792749  \n",
       "2519  6.659932  18.002771  \n",
       "2520  6.625289  18.165371  \n",
       "\n",
       "[2521 rows x 500 columns]"
      ]
     },
     "execution_count": 38,
     "metadata": {},
     "output_type": "execute_result"
    }
   ],
   "source": [
    "# Run the Monte Carlo simulation to forecast 10 years cumulative returns\n",
    "ten_year_simulation.calc_cumulative_return()\n"
   ]
  },
  {
   "cell_type": "code",
   "execution_count": 39,
   "metadata": {},
   "outputs": [
    {
     "data": {
      "text/plain": [
       "<AxesSubplot:title={'center':'500 Simulations of Cumulative Portfolio Return Trajectories Over the Next 2520 Trading Days.'}>"
      ]
     },
     "execution_count": 39,
     "metadata": {},
     "output_type": "execute_result"
    },
    {
     "data": {
      "image/png": "[encoded data removed]",
      "text/plain": [
       "<Figure size 432x288 with 1 Axes>"
      ]
     },
     "metadata": {
      "needs_background": "light"
     },
     "output_type": "display_data"
    }
   ],
   "source": [
    "# Visualize the 10-year Monte Carlo simulation by creating an\n",
    "# overlay line plot\n",
    "ten_year_simulation.plot_simulation()\n"
   ]
  },
  {
   "cell_type": "code",
   "execution_count": 40,
   "metadata": {},
   "outputs": [
    {
     "data": {
      "text/plain": [
       "<AxesSubplot:title={'center':'Distribution of Final Cumuluative Returns Across All 500 Simulations'}, ylabel='Frequency'>"
      ]
     },
     "execution_count": 40,
     "metadata": {},
     "output_type": "execute_result"
    },
    {
     "data": {
      "image/png": "[encoded data removed]",
      "text/plain": [
       "<Figure size 432x288 with 1 Axes>"
      ]
     },
     "metadata": {
      "needs_background": "light"
     },
     "output_type": "display_data"
    }
   ],
   "source": [
    "# Visualize the probability distribution of the 10-year Monte Carlo simulation \n",
    "# by plotting a histogram\n",
    "ten_year_simulation.plot_distribution()\n"
   ]
  },
  {
   "cell_type": "code",
   "execution_count": 41,
   "metadata": {},
   "outputs": [
    {
     "name": "stdout",
     "output_type": "stream",
     "text": [
      "count           500.000000\n",
      "mean             14.368600\n",
      "std               5.104517\n",
      "min               4.947318\n",
      "25%              10.716933\n",
      "50%              13.594731\n",
      "75%              16.854138\n",
      "max              38.710312\n",
      "95% CI Lower      6.799485\n",
      "95% CI Upper     26.164149\n",
      "Name: 2520, dtype: float64\n"
     ]
    }
   ],
   "source": [
    "# Generate summary statistics from the 10-year Monte Carlo simulation results\n",
    "ten_year_simulation_statistics = ten_year_simulation.summarize_cumulative_return()\n",
    "\n",
    "\n",
    "# Review the 10-year Monte Carlo summary statistics\n",
    "print(ten_year_simulation_statistics)"
   ]
  },
  {
   "cell_type": "markdown",
   "metadata": {},
   "source": [
    "### Answer the following questions:"
   ]
  },
  {
   "cell_type": "markdown",
   "metadata": {},
   "source": [
    "#### Question: Using the current value of only the stock and bond portion of the member's portfolio and the summary statistics that you generated from the new Monte Carlo simulation, what are the lower and upper bounds for the expected value of the portfolio (with the new weights) with a 95% confidence interval?"
   ]
  },
  {
   "cell_type": "code",
   "execution_count": 42,
   "metadata": {},
   "outputs": [
    {
     "name": "stdout",
     "output_type": "stream",
     "text": [
      "The current value of the bond and stock portfolio is $ 50045.20\n"
     ]
    }
   ],
   "source": [
    "# Print the current balance of the stock and bond portion of the members portfolio\n",
    "print(f\"The current value of the bond and stock portfolio is ${total_stocks_bonds: .2f}\")\n"
   ]
  },
  {
   "cell_type": "code",
   "execution_count": 43,
   "metadata": {},
   "outputs": [
    {
     "name": "stdout",
     "output_type": "stream",
     "text": [
      "There is a 95% chance that a valuation of $50,045.20 in the portfolio over the next year will end within in the range of $340,281.57 and $1,309,390.08.\n"
     ]
    }
   ],
   "source": [
    "# Use the lower and upper `95%` confidence intervals to calculate the range of the possible outcomes for the current stock/bond portfolio\n",
    "ci_lower_ten_cumulative_return = ten_year_simulation_statistics[8] * total_stocks_bonds\n",
    "ci_upper_ten_cumulative_return = ten_year_simulation_statistics[9] * total_stocks_bonds\n",
    "\n",
    "# Print the result of your calculations\n",
    "print(f\"There is a 95% chance that a valuation of ${total_stocks_bonds:,.2f} in the portfolio\"\n",
    "      f\" over the next year will end within in the range of\"\n",
    "      f\" ${ci_lower_ten_cumulative_return:,.2f} and ${ci_upper_ten_cumulative_return:,.2f}.\")\n"
   ]
  },
  {
   "cell_type": "markdown",
   "metadata": {},
   "source": [
    "#### Question: Will weighting the portfolio more heavily to stocks allow the credit union members to retire after only 10 years?"
   ]
  },
  {
   "cell_type": "markdown",
   "metadata": {},
   "source": [
    "While there is always consideration of additional assets and what a member's retirement goals are, the simulations suggest that it is significantly advantageous (and profitable) for credit union members focus on a thirty year return; however, the more heavily weight the portfolio to stocks is more advantages. Running the ten year simulation, weighting the portfolio more heavily to bonds, reveals that a significant amount of return will be lost as opposed to the stock-heavy portfolio. Overall, a credit union member should weigh a portfolio more heavily towards bonds, but understand that giving the portfolio longer than ten years will yield significant financial benefits that will help with retirement. "
   ]
  },
  {
   "cell_type": "code",
   "execution_count": null,
   "metadata": {},
   "outputs": [],
   "source": []
  }
 ],
 "metadata": {
  "kernelspec": {
   "display_name": "Python 3",
   "language": "python",
   "name": "python3"
  },
  "language_info": {
   "codemirror_mode": {
    "name": "ipython",
    "version": 3
   },
   "file_extension": ".py",
   "mimetype": "text/x-python",
   "name": "python",
   "nbconvert_exporter": "python",
   "pygments_lexer": "ipython3",
   "version": "3.8.8"
  }
 },
 "nbformat": 4,
 "nbformat_minor": 4
}
